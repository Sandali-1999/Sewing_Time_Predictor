{
 "cells": [
  {
   "cell_type": "markdown",
   "id": "5846b8ca-3bd5-4ace-8546-28d906041da7",
   "metadata": {},
   "source": [
    "## --------------------------------------- Model Fitting Part --------------------------------------------"
   ]
  },
  {
   "cell_type": "markdown",
   "id": "33f4a36c-df82-4550-a01b-594e1135c471",
   "metadata": {},
   "source": [
    "### Data Preprocessing"
   ]
  },
  {
   "cell_type": "code",
   "execution_count": 37,
   "id": "2f72a736-3825-4948-809d-60ca77cf906e",
   "metadata": {},
   "outputs": [],
   "source": [
    "import pandas as pd\n",
    "import numpy as np\n",
    "import seaborn as sns \n",
    "from sklearn.ensemble import IsolationForest\n",
    "from wordcloud import WordCloud\n",
    "import matplotlib.pyplot as plt"
   ]
  },
  {
   "cell_type": "code",
   "execution_count": 3,
   "id": "1c6b693c-0ed2-48bb-b461-4d4869e8429b",
   "metadata": {},
   "outputs": [],
   "source": [
    "df=pd.read_csv(\"Final1.csv\")"
   ]
  },
  {
   "cell_type": "code",
   "execution_count": 5,
   "id": "36fb5023-1775-45b7-a2a2-cb3f3f8d8520",
   "metadata": {},
   "outputs": [
    {
     "name": "stdout",
     "output_type": "stream",
     "text": [
      "<class 'pandas.core.frame.DataFrame'>\n",
      "RangeIndex: 9352 entries, 0 to 9351\n",
      "Data columns (total 13 columns):\n",
      " #   Column               Non-Null Count  Dtype \n",
      "---  ------               --------------  ----- \n",
      " 0   SMO_Age              9352 non-null   int64 \n",
      " 1   SMO_Gender           9352 non-null   object\n",
      " 2   SMO_KPI_Grade        9352 non-null   object\n",
      " 3   Garment_Type         9352 non-null   object\n",
      " 4   Sub_Garment_Type     9352 non-null   object\n",
      " 5   Brand                9352 non-null   object\n",
      " 6   Development_Stage    9352 non-null   object\n",
      " 7   Sample_Type          9352 non-null   object\n",
      " 8   Fabric_Complexity    9352 non-null   object\n",
      " 9   Embellishment_Level  9352 non-null   object\n",
      " 10  Sewing_Units         9352 non-null   int64 \n",
      " 11  Incentive_Amount     9352 non-null   int64 \n",
      " 12  Sewing_Time_Minutes  9352 non-null   int64 \n",
      "dtypes: int64(4), object(9)\n",
      "memory usage: 949.9+ KB\n"
     ]
    }
   ],
   "source": [
    "df.info()"
   ]
  },
  {
   "cell_type": "code",
   "execution_count": 7,
   "id": "1faeb2c9-c4d4-47ca-9169-d975e25452b0",
   "metadata": {},
   "outputs": [
    {
     "data": {
      "text/html": [
       "<div>\n",
       "<style scoped>\n",
       "    .dataframe tbody tr th:only-of-type {\n",
       "        vertical-align: middle;\n",
       "    }\n",
       "\n",
       "    .dataframe tbody tr th {\n",
       "        vertical-align: top;\n",
       "    }\n",
       "\n",
       "    .dataframe thead th {\n",
       "        text-align: right;\n",
       "    }\n",
       "</style>\n",
       "<table border=\"1\" class=\"dataframe\">\n",
       "  <thead>\n",
       "    <tr style=\"text-align: right;\">\n",
       "      <th></th>\n",
       "      <th>SMO_Age</th>\n",
       "      <th>SMO_Gender</th>\n",
       "      <th>SMO_KPI_Grade</th>\n",
       "      <th>Garment_Type</th>\n",
       "      <th>Sub_Garment_Type</th>\n",
       "      <th>Brand</th>\n",
       "      <th>Development_Stage</th>\n",
       "      <th>Sample_Type</th>\n",
       "      <th>Fabric_Complexity</th>\n",
       "      <th>Embellishment_Level</th>\n",
       "      <th>Sewing_Units</th>\n",
       "      <th>Incentive_Amount</th>\n",
       "      <th>Sewing_Time_Minutes</th>\n",
       "    </tr>\n",
       "  </thead>\n",
       "  <tbody>\n",
       "    <tr>\n",
       "      <th>0</th>\n",
       "      <td>28</td>\n",
       "      <td>Female</td>\n",
       "      <td>A</td>\n",
       "      <td>Women Lower Body Underwear</td>\n",
       "      <td>G String</td>\n",
       "      <td>Victoria Secret</td>\n",
       "      <td>Medium</td>\n",
       "      <td>Fit Sample</td>\n",
       "      <td>Regular</td>\n",
       "      <td>No Embellishment</td>\n",
       "      <td>8</td>\n",
       "      <td>26</td>\n",
       "      <td>92</td>\n",
       "    </tr>\n",
       "    <tr>\n",
       "      <th>1</th>\n",
       "      <td>34</td>\n",
       "      <td>Female</td>\n",
       "      <td>A</td>\n",
       "      <td>Women Lower Body Underwear</td>\n",
       "      <td>Boy Short</td>\n",
       "      <td>Victoria Secret</td>\n",
       "      <td>Medium</td>\n",
       "      <td>Fit Sample</td>\n",
       "      <td>Difficult</td>\n",
       "      <td>Simple</td>\n",
       "      <td>2</td>\n",
       "      <td>61</td>\n",
       "      <td>190</td>\n",
       "    </tr>\n",
       "    <tr>\n",
       "      <th>2</th>\n",
       "      <td>26</td>\n",
       "      <td>Female</td>\n",
       "      <td>A</td>\n",
       "      <td>Women Lower Body Underwear</td>\n",
       "      <td>G String</td>\n",
       "      <td>Victoria Secret</td>\n",
       "      <td>Medium</td>\n",
       "      <td>Fit Sample</td>\n",
       "      <td>Regular</td>\n",
       "      <td>No Embellishment</td>\n",
       "      <td>7</td>\n",
       "      <td>26</td>\n",
       "      <td>283</td>\n",
       "    </tr>\n",
       "    <tr>\n",
       "      <th>3</th>\n",
       "      <td>32</td>\n",
       "      <td>Female</td>\n",
       "      <td>A</td>\n",
       "      <td>Women Lower Body Underwear</td>\n",
       "      <td>Thong</td>\n",
       "      <td>Victoria Secret</td>\n",
       "      <td>Medium</td>\n",
       "      <td>Fit Sample</td>\n",
       "      <td>Regular</td>\n",
       "      <td>Simple</td>\n",
       "      <td>8</td>\n",
       "      <td>35</td>\n",
       "      <td>474</td>\n",
       "    </tr>\n",
       "    <tr>\n",
       "      <th>4</th>\n",
       "      <td>34</td>\n",
       "      <td>Male</td>\n",
       "      <td>Supper</td>\n",
       "      <td>Men Lower Body Underwear</td>\n",
       "      <td>Men Brief</td>\n",
       "      <td>Calvin Klein</td>\n",
       "      <td>Medium</td>\n",
       "      <td>Photoshoot Sample</td>\n",
       "      <td>Regular</td>\n",
       "      <td>Simple</td>\n",
       "      <td>2</td>\n",
       "      <td>43</td>\n",
       "      <td>153</td>\n",
       "    </tr>\n",
       "  </tbody>\n",
       "</table>\n",
       "</div>"
      ],
      "text/plain": [
       "   SMO_Age  SMO_Gender SMO_KPI_Grade                Garment_Type  \\\n",
       "0        28     Female             A  Women Lower Body Underwear   \n",
       "1        34     Female             A  Women Lower Body Underwear   \n",
       "2        26     Female             A  Women Lower Body Underwear   \n",
       "3        32     Female             A  Women Lower Body Underwear   \n",
       "4        34       Male        Supper    Men Lower Body Underwear   \n",
       "\n",
       "  Sub_Garment_Type            Brand Development_Stage        Sample_Type  \\\n",
       "0         G String  Victoria Secret            Medium         Fit Sample   \n",
       "1        Boy Short  Victoria Secret            Medium         Fit Sample   \n",
       "2         G String  Victoria Secret            Medium         Fit Sample   \n",
       "3            Thong  Victoria Secret            Medium         Fit Sample   \n",
       "4        Men Brief     Calvin Klein            Medium  Photoshoot Sample   \n",
       "\n",
       "  Fabric_Complexity Embellishment_Level  Sewing_Units   Incentive_Amount   \\\n",
       "0           Regular    No Embellishment              8                 26   \n",
       "1         Difficult              Simple              2                 61   \n",
       "2           Regular    No Embellishment              7                 26   \n",
       "3           Regular              Simple              8                 35   \n",
       "4           Regular              Simple              2                 43   \n",
       "\n",
       "   Sewing_Time_Minutes  \n",
       "0                   92  \n",
       "1                  190  \n",
       "2                  283  \n",
       "3                  474  \n",
       "4                  153  "
      ]
     },
     "execution_count": 7,
     "metadata": {},
     "output_type": "execute_result"
    }
   ],
   "source": [
    "df.head()"
   ]
  },
  {
   "cell_type": "code",
   "execution_count": 9,
   "id": "60096b9a-c2d1-4581-b5ff-6bd6f6e48344",
   "metadata": {},
   "outputs": [
    {
     "data": {
      "text/plain": [
       "SMO_Age                0\n",
       "SMO_Gender             0\n",
       "SMO_KPI_Grade          0\n",
       "Garment_Type           0\n",
       "Sub_Garment_Type       0\n",
       "Brand                  0\n",
       "Development_Stage      0\n",
       "Sample_Type            0\n",
       "Fabric_Complexity      0\n",
       "Embellishment_Level    0\n",
       "Sewing_Units           0\n",
       "Incentive_Amount       0\n",
       "Sewing_Time_Minutes    0\n",
       "dtype: int64"
      ]
     },
     "execution_count": 9,
     "metadata": {},
     "output_type": "execute_result"
    }
   ],
   "source": [
    "df.isna().sum()"
   ]
  },
  {
   "cell_type": "code",
   "execution_count": 11,
   "id": "2cbae2c4-a905-40ea-8ed4-b4cff6c6c27e",
   "metadata": {},
   "outputs": [
    {
     "data": {
      "text/plain": [
       "189"
      ]
     },
     "execution_count": 11,
     "metadata": {},
     "output_type": "execute_result"
    }
   ],
   "source": [
    "df.duplicated().sum()"
   ]
  },
  {
   "cell_type": "code",
   "execution_count": 13,
   "id": "9b652186-f311-472f-beb9-1a5a5065b4cc",
   "metadata": {},
   "outputs": [],
   "source": [
    "df=df.drop_duplicates()"
   ]
  },
  {
   "cell_type": "code",
   "execution_count": 15,
   "id": "c681bf7d-01b1-43e5-b6dd-ae5426913d14",
   "metadata": {},
   "outputs": [
    {
     "data": {
      "text/plain": [
       "(9163, 13)"
      ]
     },
     "execution_count": 15,
     "metadata": {},
     "output_type": "execute_result"
    }
   ],
   "source": [
    "df.shape"
   ]
  },
  {
   "cell_type": "code",
   "execution_count": 17,
   "id": "c91e3dfd-7a78-4e6e-9e72-61e0788d27eb",
   "metadata": {},
   "outputs": [
    {
     "data": {
      "text/plain": [
       "SMO_Age                 23\n",
       "SMO_Gender               2\n",
       "SMO_KPI_Grade            5\n",
       "Garment_Type             4\n",
       "Sub_Garment_Type        10\n",
       "Brand                    6\n",
       "Development_Stage        3\n",
       "Sample_Type              7\n",
       "Fabric_Complexity        2\n",
       "Embellishment_Level      4\n",
       "Sewing_Units            40\n",
       "Incentive_Amount       106\n",
       "Sewing_Time_Minutes    915\n",
       "dtype: int64"
      ]
     },
     "execution_count": 17,
     "metadata": {},
     "output_type": "execute_result"
    }
   ],
   "source": [
    "df.nunique()"
   ]
  },
  {
   "cell_type": "code",
   "execution_count": 19,
   "id": "5fbd6562-f228-4c68-adda-af994f9daed4",
   "metadata": {},
   "outputs": [
    {
     "data": {
      "text/plain": [
       "SMO_Age                 int64\n",
       "SMO_Gender             object\n",
       "SMO_KPI_Grade          object\n",
       "Garment_Type           object\n",
       "Sub_Garment_Type       object\n",
       "Brand                  object\n",
       "Development_Stage      object\n",
       "Sample_Type            object\n",
       "Fabric_Complexity      object\n",
       "Embellishment_Level    object\n",
       "Sewing_Units            int64\n",
       "Incentive_Amount        int64\n",
       "Sewing_Time_Minutes     int64\n",
       "dtype: object"
      ]
     },
     "execution_count": 19,
     "metadata": {},
     "output_type": "execute_result"
    }
   ],
   "source": [
    "df.dtypes"
   ]
  },
  {
   "cell_type": "code",
   "execution_count": 21,
   "id": "3aa662e2-bd7b-4442-8695-b4f6f533bc01",
   "metadata": {},
   "outputs": [],
   "source": [
    "numerical_columns=df.select_dtypes(include=['int64']).columns\n",
    "categorical_columns=df.select_dtypes(include=['object']).columns"
   ]
  },
  {
   "cell_type": "code",
   "execution_count": 23,
   "id": "6cd1ba8b-eeb9-4210-aec7-dbff0c5c8796",
   "metadata": {},
   "outputs": [
    {
     "data": {
      "text/plain": [
       "Index(['SMO_Age ', 'Sewing_Units ', 'Incentive_Amount ',\n",
       "       'Sewing_Time_Minutes'],\n",
       "      dtype='object')"
      ]
     },
     "execution_count": 23,
     "metadata": {},
     "output_type": "execute_result"
    }
   ],
   "source": [
    "numerical_columns"
   ]
  },
  {
   "cell_type": "code",
   "execution_count": 25,
   "id": "9b895750-3d96-47ca-9307-fbc428c32da0",
   "metadata": {},
   "outputs": [
    {
     "data": {
      "text/plain": [
       "Index(['SMO_Gender', 'SMO_KPI_Grade', 'Garment_Type', 'Sub_Garment_Type',\n",
       "       'Brand', 'Development_Stage', 'Sample_Type', 'Fabric_Complexity',\n",
       "       'Embellishment_Level'],\n",
       "      dtype='object')"
      ]
     },
     "execution_count": 25,
     "metadata": {},
     "output_type": "execute_result"
    }
   ],
   "source": [
    "categorical_columns"
   ]
  },
  {
   "cell_type": "code",
   "execution_count": 27,
   "id": "52216c59-3752-49bb-87f5-7fb87c640df9",
   "metadata": {},
   "outputs": [
    {
     "name": "stdout",
     "output_type": "stream",
     "text": [
      "Index(['SMO_Age ', 'SMO_Gender', 'SMO_KPI_Grade', 'Garment_Type',\n",
      "       'Sub_Garment_Type', 'Brand', 'Development_Stage', 'Sample_Type',\n",
      "       'Fabric_Complexity', 'Embellishment_Level', 'Sewing_Units ',\n",
      "       'Incentive_Amount ', 'Sewing_Time_Minutes'],\n",
      "      dtype='object')\n"
     ]
    }
   ],
   "source": [
    "print(df.columns)\n",
    "df.columns = df.columns.str.strip()"
   ]
  },
  {
   "cell_type": "code",
   "execution_count": 39,
   "id": "2c3afa77-8093-4335-9ef5-aa360359f6a9",
   "metadata": {},
   "outputs": [
    {
     "name": "stdout",
     "output_type": "stream",
     "text": [
      "Variable: SMO_Age\n",
      "Categories: [28 34 26 32 42 46 41 27 45 24 38 30 29 36 35 51 43 25 22 40 33 55 50]\n",
      "==============================\n",
      "Variable: SMO_Gender\n",
      "Categories: ['Female' 'Male']\n",
      "==============================\n",
      "Variable: SMO_KPI_Grade\n",
      "Categories: ['A' 'Supper' 'B' 'C' 'Not Graded']\n",
      "==============================\n",
      "Variable: Garment_Type\n",
      "Categories: ['Women Lower Body Underwear' 'Men Lower Body Underwear'\n",
      " 'Women Upper Body Underwear' 'Men Upper Body Underwear']\n",
      "==============================\n",
      "Variable: Sub_Garment_Type\n",
      "Categories: ['G String' 'Boy Short' 'Thong' 'Men Brief' 'Boxer' 'Hipster' 'Cami'\n",
      " 'Brief' 'Tank Top' 'Bralette']\n",
      "==============================\n",
      "Variable: Brand\n",
      "Categories: ['Victoria Secret' 'Calvin Klein' 'Tommy John' 'Lacoste' 'Nike' 'LIDL']\n",
      "==============================\n",
      "Variable: Development_Stage\n",
      "Categories: ['Medium' 'First' 'Final']\n",
      "==============================\n",
      "Variable: Sample_Type\n",
      "Categories: ['Fit Sample' 'Photoshoot Sample' 'SMS Sample' 'Red Tag Sample'\n",
      " 'Pre Production Sample' 'Proto Sample' 'Size Set Sample']\n",
      "==============================\n",
      "Variable: Fabric_Complexity\n",
      "Categories: ['Regular' 'Difficult']\n",
      "==============================\n",
      "Variable: Embellishment_Level\n",
      "Categories: ['No Embellishment' 'Simple' 'Moderate' 'Difficult']\n",
      "==============================\n",
      "Variable: Sewing_Units\n",
      "Categories: [ 8  2  7  1  3  4  5  6 12  9 18 17 11 10 25 16 14 30 40 15 13 20 22 36\n",
      " 28 34 32 39 38 24 26 19 33 21 35 27 23 29 31 37]\n",
      "==============================\n",
      "Variable: Incentive_Amount\n",
      "Categories: [ 26  61  35  43  22  16  40  39  27  44  31  34  47 120  58  33  32  23\n",
      "  28  50   3   7  64  55  52   8  80  76  21  15   4  88  13  20 108  53\n",
      "  29  25  12  63  95 126  78  54  90  72 151  10  24 110  30  97  18  14\n",
      "  17  56  82 105 100   5 147  73  38  11   2 138  70  19  67 122  57 176\n",
      "  48  89  66  49  83  65  42  41  37   6  71 123 175 130  51 134 133  68\n",
      "  75 140 128 115  59  81 132  85 114 191 135  74  46  60  94  91]\n",
      "==============================\n",
      "Variable: Sewing_Time_Minutes\n",
      "Categories: [  92  190  283  474  153   54   74  349  255  204  309  258  174  233\n",
      "  178  413  291  487  516  241  184  465   50   84  267  422  338   81\n",
      "  117  116  253  250  503  252  251  334  123   51  177  147  288  216\n",
      "  162  119   94   93   96   95   53   22   21   30   18   78   41  234\n",
      "  135   87   43  684  744  495  449  165  164  187  526  525  472   68\n",
      "  169  168  266  311  302  691  247  196  141  176  306  279   47  391\n",
      "  212  200  166  201  100   49  401  468  222  140  211  213  106  321\n",
      "  142   80   42   36   45  471  610  270  170  423  133  144  394  535\n",
      " 1158 1356  312  112  928  927  156   71   61  282  107   48  357  268\n",
      "  722   90  480   98  194  378  219  180  565   85  752   38  591  611\n",
      "  855  396   62  172  792  186  466  285  284  134  101  388  355  430\n",
      "  113  445  671  146  145  148  492  393  230  410  332  351  150  923\n",
      "  428   79   72  173  129  669   44  486  494  407  214  584  579  136\n",
      "  406  578  265  220  619  384  342  641  570  695   58  185  326   89\n",
      "  102  485   34  408  582  427  198  199  617  506   82  415  434  316\n",
      "  325  244  447  424  867  324  242   75   64   37  248  203  374  645\n",
      "  221  452  202 1184  240  313   59  341  235  323  322  385  118  246\n",
      "  245   55  239  226  327  286  108  339   66  188  192  353  377  505\n",
      "  628  891  263   39  595  903  508  920  836  416  420  502  275  121\n",
      " 1433  308  183  182  626  277  874  207  720  688   46 1194 1113 1193\n",
      "  499  498  232  761   86  635  634 1470   88 1047  171  328  137  343\n",
      "  110  143  127  126  167   83 1004  717  716   60   70  104 1269  105\n",
      "  319  130  264  600   97  224  330  249  491  390  490  463  436  435\n",
      "  225  365  356  402   69  560  540  680  640  111  161   20  817  574\n",
      "  163  317  753  237  432   77   76  405  151  456  538  949  566 1249\n",
      " 1248   31  382  550  260  120  197  764  114  493  350 1260  366  991\n",
      "  340  679  132  488  780  139  131  437  254  515  412 1245 1212  103\n",
      "  189  433  160   65   99  745  558  419  292  482  834  417  700  179\n",
      "  195  372  501  451  364  363  128  191  345  149  772  122   19  125\n",
      "  109  209  370   25  310  274  124  803  776  228  227  281  256  552\n",
      "  477  618  369   57   56  518  562  712  455  699  649 1492  300  500\n",
      "  218  572  736  879  510  215  557  478  395  368  601  429  262  159\n",
      "  464  693  347  346  800  820  819  362  725  542 1207  590  481  942\n",
      "  941  710  950  397  280  489  462  461  987  946  418  273  243 1030\n",
      " 1000  307  670  629  576  553 1011  193  206  537   52  454  453   40\n",
      "  457  238  651  586  935 1088 1024  371  509  660  543  738  769  768\n",
      " 1031 1089 1430  797  661  460  229  519  575  658  657  759   24  608\n",
      "  359  296  295  426  425  740  593 1142   28   32  880  830  483 1100\n",
      "  290  960  414  348   33  662  555  711  668  138  756  861  616  335\n",
      "  278  443  403  567  588 1143  631 1703 1702  735  694 1429  441  367\n",
      "  115  329   27  701  857  439 1573 1825  440  231  205  939  154  615\n",
      "  809  473  331 1227 1124  157  763  289  448  655  376  375 1134  624\n",
      "  536 1666 1665  674  673 1827  648  210  155  750  297  223   63  360\n",
      "  257  573  664  523  822   67  400  802  354  479  697 1240  647  646\n",
      "  380 1237  301  409  561  361  314  158  754  517  666  621  866  788\n",
      "  672  504  762  898  299  637  569  577  583  755 1364  532 1226 1225\n",
      "  719   73  152  825 1500  484  531  806  564  563 1019  383  793  389\n",
      "  751  520  760  527  470  272  271  352  895  804  602  581  236  913\n",
      "  303  392 1140  287 1300  337  336  294  571  528  442  458  858  269\n",
      "  475  521  276  771  930   91 1359 1358  846  638  467  373  708  534\n",
      " 1692 1133  996  970 1147  931 1010  982 1009  981  614  652  856  603\n",
      "  979  842  748  818  934 1059  731 1070  217  978 1001  916  587  589\n",
      "  709  181  320  175  514  729  261  522  659 1469 1431 1286 1252  625\n",
      "  298  259  599  841 1476   35   23  633  993  546  623  636  814 1235\n",
      "  654  513  914  404 1129  956  955  940  810  642  529  548  972  798\n",
      "  315  732  305  450  900  899 1512 1052 1719  663  945  644 1018 1043\n",
      " 1041 1576  777  730   26  653  908  907 1082  421 1345  705 1318 1343\n",
      "  948  860 1629  620 1123  952 1419  469  632  446  533  911 1425  875\n",
      " 1221 1130 1005 1075 1267  868  706 1704  686 1434 1383 1398 1397 1236\n",
      " 1191  742  609 1376  707  605  943  912 1002 1112 1072 1208 1107 1519\n",
      " 1254  890  833  704  678 1409 1085  774  497  698  304  933 1669 1280\n",
      "  344  692  789  728  910  909 1064  944  877  876  459 1015 1242 1120\n",
      " 1119  715  821 1154 1155  897  677  786  785 1478 1477  665  630  947\n",
      "  650 1008 1442 1441  208  703 1846 1766  749 1136 1033  901  724  984\n",
      "  551 1202  690  398  773 1278 1244 1420 1035 1020  333  869  293  592\n",
      "  675 1026 1040 1196  568]\n",
      "==============================\n"
     ]
    }
   ],
   "source": [
    "def identify_categories(df):\n",
    "    for column in df.columns:\n",
    "        unique_values = df[column].unique()\n",
    "        print(f\"Variable: {column}\")\n",
    "        print(f\"Categories: {unique_values}\")\n",
    "        print(\"=\"*30)\n",
    "\n",
    "identify_categories(df)"
   ]
  },
  {
   "cell_type": "code",
   "execution_count": 41,
   "id": "c5f47979-d8d2-4483-bc35-84e7161113b7",
   "metadata": {},
   "outputs": [
    {
     "data": {
      "text/html": [
       "<div>\n",
       "<style scoped>\n",
       "    .dataframe tbody tr th:only-of-type {\n",
       "        vertical-align: middle;\n",
       "    }\n",
       "\n",
       "    .dataframe tbody tr th {\n",
       "        vertical-align: top;\n",
       "    }\n",
       "\n",
       "    .dataframe thead th {\n",
       "        text-align: right;\n",
       "    }\n",
       "</style>\n",
       "<table border=\"1\" class=\"dataframe\">\n",
       "  <thead>\n",
       "    <tr style=\"text-align: right;\">\n",
       "      <th></th>\n",
       "      <th>SMO_Age</th>\n",
       "      <th>Sewing_Units</th>\n",
       "      <th>Incentive_Amount</th>\n",
       "      <th>Sewing_Time_Minutes</th>\n",
       "    </tr>\n",
       "  </thead>\n",
       "  <tbody>\n",
       "    <tr>\n",
       "      <th>count</th>\n",
       "      <td>9163.000000</td>\n",
       "      <td>9163.00000</td>\n",
       "      <td>9163.000000</td>\n",
       "      <td>9163.000000</td>\n",
       "    </tr>\n",
       "    <tr>\n",
       "      <th>mean</th>\n",
       "      <td>33.154862</td>\n",
       "      <td>5.46022</td>\n",
       "      <td>41.122776</td>\n",
       "      <td>299.278730</td>\n",
       "    </tr>\n",
       "    <tr>\n",
       "      <th>std</th>\n",
       "      <td>7.619020</td>\n",
       "      <td>6.32737</td>\n",
       "      <td>21.606558</td>\n",
       "      <td>237.323149</td>\n",
       "    </tr>\n",
       "    <tr>\n",
       "      <th>min</th>\n",
       "      <td>22.000000</td>\n",
       "      <td>1.00000</td>\n",
       "      <td>2.000000</td>\n",
       "      <td>18.000000</td>\n",
       "    </tr>\n",
       "    <tr>\n",
       "      <th>25%</th>\n",
       "      <td>26.000000</td>\n",
       "      <td>2.00000</td>\n",
       "      <td>28.000000</td>\n",
       "      <td>136.000000</td>\n",
       "    </tr>\n",
       "    <tr>\n",
       "      <th>50%</th>\n",
       "      <td>32.000000</td>\n",
       "      <td>3.00000</td>\n",
       "      <td>35.000000</td>\n",
       "      <td>233.000000</td>\n",
       "    </tr>\n",
       "    <tr>\n",
       "      <th>75%</th>\n",
       "      <td>40.000000</td>\n",
       "      <td>6.00000</td>\n",
       "      <td>50.000000</td>\n",
       "      <td>391.000000</td>\n",
       "    </tr>\n",
       "    <tr>\n",
       "      <th>max</th>\n",
       "      <td>55.000000</td>\n",
       "      <td>40.00000</td>\n",
       "      <td>191.000000</td>\n",
       "      <td>1846.000000</td>\n",
       "    </tr>\n",
       "  </tbody>\n",
       "</table>\n",
       "</div>"
      ],
      "text/plain": [
       "           SMO_Age  Sewing_Units  Incentive_Amount  Sewing_Time_Minutes\n",
       "count  9163.000000    9163.00000       9163.000000          9163.000000\n",
       "mean     33.154862       5.46022         41.122776           299.278730\n",
       "std       7.619020       6.32737         21.606558           237.323149\n",
       "min      22.000000       1.00000          2.000000            18.000000\n",
       "25%      26.000000       2.00000         28.000000           136.000000\n",
       "50%      32.000000       3.00000         35.000000           233.000000\n",
       "75%      40.000000       6.00000         50.000000           391.000000\n",
       "max      55.000000      40.00000        191.000000          1846.000000"
      ]
     },
     "execution_count": 41,
     "metadata": {},
     "output_type": "execute_result"
    }
   ],
   "source": [
    "df.describe()"
   ]
  },
  {
   "cell_type": "code",
   "execution_count": 43,
   "id": "48a6441c-ab2a-4c56-b785-20ab3e6260ff",
   "metadata": {},
   "outputs": [
    {
     "data": {
      "image/png": "[encoded data removed]",
      "text/plain": [
       "<Figure size 1500x800 with 4 Axes>"
      ]
     },
     "metadata": {},
     "output_type": "display_data"
    },
    {
     "name": "stdout",
     "output_type": "stream",
     "text": [
      "SMO_Age: 0 outliers detected\n",
      "Sewing_Units: 851 outliers detected\n",
      "Incentive_Amount: 404 outliers detected\n",
      "Sewing_Time_Minutes: 419 outliers detected\n"
     ]
    }
   ],
   "source": [
    "def detect_outliers_iqr(df):\n",
    "    outlier_dict = {}\n",
    "    for column in df.select_dtypes(include=['int64', 'float64']).columns:\n",
    "        Q1 = df[column].quantile(0.25)\n",
    "        Q3 = df[column].quantile(0.75)\n",
    "        IQR = Q3 - Q1\n",
    "        lower_bound = Q1 - 1.5 * IQR\n",
    "        upper_bound = Q3 + 1.5 * IQR\n",
    "        outliers = df[(df[column] < lower_bound) | (df[column] > upper_bound)][column]\n",
    "        outlier_dict[column] = outliers\n",
    "    return outlier_dict\n",
    "\n",
    "\n",
    "outliers = detect_outliers_iqr(df)\n",
    "\n",
    "\n",
    "plt.figure(figsize=(15, 8))\n",
    "for i, column in enumerate(df.select_dtypes(include=['int64', 'float64']).columns, 1):\n",
    "    plt.subplot(3, 3, i)\n",
    "    sns.boxplot(x=df[column])\n",
    "    plt.title(column)\n",
    "plt.tight_layout()\n",
    "plt.show()\n",
    "\n",
    "\n",
    "for column, outlier_values in outliers.items():\n",
    "    print(f\"{column}: {len(outlier_values)} outliers detected\")"
   ]
  },
  {
   "cell_type": "raw",
   "id": "fce92616-cb6c-4c6d-8a70-a9072c94a761",
   "metadata": {},
   "source": [
    "# Function to identify outliers in numerical columns\n",
    "def identify_numerical_outliers(df, numerical_columns, contamination=0.05, random_state=42):\n",
    "    iso_forest = IsolationForest(contamination=contamination, random_state=random_state)\n",
    "    outliers = iso_forest.fit_predict(df[numerical_columns])\n",
    "    \n",
    "    # Mark numerical outliers as True where outliers == -1\n",
    "    df['numerical_outlier'] = (outliers == -1)\n",
    "    \n",
    "    return df\n",
    "\n",
    "\n",
    "# Identify numerical and categorical columns in the dataset\n",
    "numerical_columns = df.select_dtypes(include=np.number).columns.tolist()\n",
    "\n",
    "# Identify numerical outliers\n",
    "df = identify_numerical_outliers(df, numerical_columns)\n",
    "\n",
    "# Print results\n",
    "numerical_outlier_percentage = (df['numerical_outlier'].sum() / len(df)) * 100\n",
    "print(f\"Percentage of numerical outliers: {numerical_outlier_percentage:.2f}%\")\n"
   ]
  },
  {
   "cell_type": "raw",
   "id": "bfb991b6-ce42-4e53-aacc-600b86537b77",
   "metadata": {},
   "source": [
    "df = df.drop(['numerical_outlier'], axis=1)\n",
    "df.head()"
   ]
  },
  {
   "cell_type": "code",
   "execution_count": 45,
   "id": "8c4af356-8994-4eb7-81ae-17267192cf36",
   "metadata": {},
   "outputs": [
    {
     "data": {
      "text/html": [
       "<div>\n",
       "<style scoped>\n",
       "    .dataframe tbody tr th:only-of-type {\n",
       "        vertical-align: middle;\n",
       "    }\n",
       "\n",
       "    .dataframe tbody tr th {\n",
       "        vertical-align: top;\n",
       "    }\n",
       "\n",
       "    .dataframe thead th {\n",
       "        text-align: right;\n",
       "    }\n",
       "</style>\n",
       "<table border=\"1\" class=\"dataframe\">\n",
       "  <thead>\n",
       "    <tr style=\"text-align: right;\">\n",
       "      <th></th>\n",
       "      <th>SMO_Age</th>\n",
       "      <th>Sewing_Units</th>\n",
       "      <th>Incentive_Amount</th>\n",
       "      <th>Sewing_Time_Minutes</th>\n",
       "    </tr>\n",
       "  </thead>\n",
       "  <tbody>\n",
       "    <tr>\n",
       "      <th>count</th>\n",
       "      <td>9163.000000</td>\n",
       "      <td>9163.00000</td>\n",
       "      <td>9163.000000</td>\n",
       "      <td>9163.000000</td>\n",
       "    </tr>\n",
       "    <tr>\n",
       "      <th>mean</th>\n",
       "      <td>33.154862</td>\n",
       "      <td>5.46022</td>\n",
       "      <td>41.122776</td>\n",
       "      <td>299.278730</td>\n",
       "    </tr>\n",
       "    <tr>\n",
       "      <th>std</th>\n",
       "      <td>7.619020</td>\n",
       "      <td>6.32737</td>\n",
       "      <td>21.606558</td>\n",
       "      <td>237.323149</td>\n",
       "    </tr>\n",
       "    <tr>\n",
       "      <th>min</th>\n",
       "      <td>22.000000</td>\n",
       "      <td>1.00000</td>\n",
       "      <td>2.000000</td>\n",
       "      <td>18.000000</td>\n",
       "    </tr>\n",
       "    <tr>\n",
       "      <th>25%</th>\n",
       "      <td>26.000000</td>\n",
       "      <td>2.00000</td>\n",
       "      <td>28.000000</td>\n",
       "      <td>136.000000</td>\n",
       "    </tr>\n",
       "    <tr>\n",
       "      <th>50%</th>\n",
       "      <td>32.000000</td>\n",
       "      <td>3.00000</td>\n",
       "      <td>35.000000</td>\n",
       "      <td>233.000000</td>\n",
       "    </tr>\n",
       "    <tr>\n",
       "      <th>75%</th>\n",
       "      <td>40.000000</td>\n",
       "      <td>6.00000</td>\n",
       "      <td>50.000000</td>\n",
       "      <td>391.000000</td>\n",
       "    </tr>\n",
       "    <tr>\n",
       "      <th>max</th>\n",
       "      <td>55.000000</td>\n",
       "      <td>40.00000</td>\n",
       "      <td>191.000000</td>\n",
       "      <td>1846.000000</td>\n",
       "    </tr>\n",
       "  </tbody>\n",
       "</table>\n",
       "</div>"
      ],
      "text/plain": [
       "           SMO_Age  Sewing_Units  Incentive_Amount  Sewing_Time_Minutes\n",
       "count  9163.000000    9163.00000       9163.000000          9163.000000\n",
       "mean     33.154862       5.46022         41.122776           299.278730\n",
       "std       7.619020       6.32737         21.606558           237.323149\n",
       "min      22.000000       1.00000          2.000000            18.000000\n",
       "25%      26.000000       2.00000         28.000000           136.000000\n",
       "50%      32.000000       3.00000         35.000000           233.000000\n",
       "75%      40.000000       6.00000         50.000000           391.000000\n",
       "max      55.000000      40.00000        191.000000          1846.000000"
      ]
     },
     "execution_count": 45,
     "metadata": {},
     "output_type": "execute_result"
    }
   ],
   "source": [
    "df.describe()"
   ]
  },
  {
   "cell_type": "code",
   "execution_count": 47,
   "id": "78328d2f-01a5-41fc-b5be-857413b8e418",
   "metadata": {},
   "outputs": [
    {
     "data": {
      "image/png": "[encoded data removed]",
      "text/plain": [
       "<Figure size 800x800 with 2 Axes>"
      ]
     },
     "metadata": {},
     "output_type": "display_data"
    }
   ],
   "source": [
    "numerical_columns = df.select_dtypes(include=['int64', 'float64'])  \n",
    "\n",
    "correlation_matrix = numerical_columns.corr()\n",
    "\n",
    "plt.figure(figsize=(8, 8))\n",
    "\n",
    "sns.heatmap(\n",
    "    correlation_matrix, \n",
    "    annot=True, \n",
    "    cmap=\"coolwarm\",  \n",
    "    fmt=\".2f\", \n",
    "    linewidths=0.5, \n",
    "    square=True, \n",
    "    cbar_kws={\"shrink\": 0.75}  \n",
    ")\n",
    "\n",
    "plt.title(\"Correlation Heatmap of Numerical Features\", fontsize=14, weight=\"bold\", fontname=\"Times New Roman\", pad=15)\n",
    "plt.xticks(rotation=45, ha='right', fontsize=10, fontname=\"Times New Roman\")\n",
    "plt.yticks(rotation=0, fontsize=10, fontname=\"Times New Roman\")\n",
    "\n",
    "\n",
    "plt.savefig(\"correlation_numerical.png\", dpi=300, bbox_inches='tight')\n",
    "\n",
    "plt.show()\n"
   ]
  },
  {
   "cell_type": "code",
   "execution_count": 48,
   "id": "887c723c-62b1-4fe3-b0e4-e936415dea85",
   "metadata": {},
   "outputs": [],
   "source": [
    "categorical_columns=df.select_dtypes(include=['object']).columns"
   ]
  },
  {
   "cell_type": "code",
   "execution_count": 49,
   "id": "675e5cd8-0af5-4266-ad95-e36b4c03beac",
   "metadata": {},
   "outputs": [
    {
     "data": {
      "image/png": "[encoded data removed]",
      "text/plain": [
       "<Figure size 1000x800 with 2 Axes>"
      ]
     },
     "metadata": {},
     "output_type": "display_data"
    }
   ],
   "source": [
    "from scipy import stats\n",
    "def cramers_v(confusion_matrix):\n",
    "    chi2 = stats.chi2_contingency(confusion_matrix)[0]\n",
    "    n = confusion_matrix.sum().sum()\n",
    "    r, k = confusion_matrix.shape\n",
    "    return np.sqrt(chi2 / (n * (min(k, r) - 1)))\n",
    "\n",
    "cramers_v_matrix = pd.DataFrame(index=categorical_columns, columns=categorical_columns)\n",
    "\n",
    "for col1 in categorical_columns:\n",
    "    for col2 in categorical_columns:\n",
    "        if col1 == col2:\n",
    "            cramers_v_matrix.loc[col1, col2] = 1.0  \n",
    "        else:\n",
    "            confusion_matrix = pd.crosstab(df[col1], df[col2])\n",
    "            cramers_v_matrix.loc[col1, col2] = cramers_v(confusion_matrix)\n",
    "\n",
    "cramers_v_matrix = cramers_v_matrix.astype(float)\n",
    "\n",
    "plt.figure(figsize=(10, 8))\n",
    "sns.heatmap(cramers_v_matrix, annot=True, cmap='coolwarm')\n",
    "\n",
    "plt.title(\"Cramér's V Correlation Matrix for Categorical Variables\", fontsize=16, fontweight='bold')\n",
    "plt.show()"
   ]
  },
  {
   "cell_type": "code",
   "execution_count": 53,
   "id": "6f95bee2-3cc8-45b5-a394-05384f2d5313",
   "metadata": {},
   "outputs": [],
   "source": [
    "df = df.drop(['Development_Stage', 'Garment_Type'], axis=1)"
   ]
  },
  {
   "cell_type": "code",
   "execution_count": 55,
   "id": "2d18dd3c-2923-448e-afde-c4065178780b",
   "metadata": {},
   "outputs": [
    {
     "name": "stdout",
     "output_type": "stream",
     "text": [
      "<class 'pandas.core.frame.DataFrame'>\n",
      "Index: 9163 entries, 0 to 9351\n",
      "Data columns (total 11 columns):\n",
      " #   Column               Non-Null Count  Dtype \n",
      "---  ------               --------------  ----- \n",
      " 0   SMO_Age              9163 non-null   int64 \n",
      " 1   SMO_Gender           9163 non-null   object\n",
      " 2   SMO_KPI_Grade        9163 non-null   object\n",
      " 3   Sub_Garment_Type     9163 non-null   object\n",
      " 4   Brand                9163 non-null   object\n",
      " 5   Sample_Type          9163 non-null   object\n",
      " 6   Fabric_Complexity    9163 non-null   object\n",
      " 7   Embellishment_Level  9163 non-null   object\n",
      " 8   Sewing_Units         9163 non-null   int64 \n",
      " 9   Incentive_Amount     9163 non-null   int64 \n",
      " 10  Sewing_Time_Minutes  9163 non-null   int64 \n",
      "dtypes: int64(4), object(7)\n",
      "memory usage: 859.0+ KB\n"
     ]
    }
   ],
   "source": [
    "df.info()"
   ]
  },
  {
   "cell_type": "markdown",
   "id": "ab6acd12-cd7d-4e29-b20a-dd8cc3f1a442",
   "metadata": {},
   "source": [
    "## Model Fitting "
   ]
  },
  {
   "cell_type": "code",
   "execution_count": 58,
   "id": "3ad083cc-7339-46b3-a390-a97537a4501b",
   "metadata": {},
   "outputs": [],
   "source": [
    "from sklearn.preprocessing import LabelEncoder\n",
    "from sklearn.model_selection import train_test_split\n",
    "from sklearn.preprocessing import OneHotEncoder, StandardScaler\n",
    "from sklearn.compose import ColumnTransformer\n",
    "import warnings"
   ]
  },
  {
   "cell_type": "code",
   "execution_count": 60,
   "id": "6a6c0fe2-b012-45f9-9cc5-33253026b011",
   "metadata": {},
   "outputs": [
    {
     "data": {
      "text/html": [
       "<div>\n",
       "<style scoped>\n",
       "    .dataframe tbody tr th:only-of-type {\n",
       "        vertical-align: middle;\n",
       "    }\n",
       "\n",
       "    .dataframe tbody tr th {\n",
       "        vertical-align: top;\n",
       "    }\n",
       "\n",
       "    .dataframe thead th {\n",
       "        text-align: right;\n",
       "    }\n",
       "</style>\n",
       "<table border=\"1\" class=\"dataframe\">\n",
       "  <thead>\n",
       "    <tr style=\"text-align: right;\">\n",
       "      <th></th>\n",
       "      <th>SMO_Age</th>\n",
       "      <th>SMO_Gender</th>\n",
       "      <th>SMO_KPI_Grade</th>\n",
       "      <th>Sub_Garment_Type</th>\n",
       "      <th>Brand</th>\n",
       "      <th>Sample_Type</th>\n",
       "      <th>Fabric_Complexity</th>\n",
       "      <th>Embellishment_Level</th>\n",
       "      <th>Sewing_Units</th>\n",
       "      <th>Incentive_Amount</th>\n",
       "      <th>Sewing_Time_Minutes</th>\n",
       "    </tr>\n",
       "  </thead>\n",
       "  <tbody>\n",
       "    <tr>\n",
       "      <th>0</th>\n",
       "      <td>28</td>\n",
       "      <td>Female</td>\n",
       "      <td>A</td>\n",
       "      <td>G String</td>\n",
       "      <td>Victoria Secret</td>\n",
       "      <td>Fit Sample</td>\n",
       "      <td>Regular</td>\n",
       "      <td>No Embellishment</td>\n",
       "      <td>8</td>\n",
       "      <td>26</td>\n",
       "      <td>92</td>\n",
       "    </tr>\n",
       "    <tr>\n",
       "      <th>1</th>\n",
       "      <td>34</td>\n",
       "      <td>Female</td>\n",
       "      <td>A</td>\n",
       "      <td>Boy Short</td>\n",
       "      <td>Victoria Secret</td>\n",
       "      <td>Fit Sample</td>\n",
       "      <td>Difficult</td>\n",
       "      <td>Simple</td>\n",
       "      <td>2</td>\n",
       "      <td>61</td>\n",
       "      <td>190</td>\n",
       "    </tr>\n",
       "    <tr>\n",
       "      <th>2</th>\n",
       "      <td>26</td>\n",
       "      <td>Female</td>\n",
       "      <td>A</td>\n",
       "      <td>G String</td>\n",
       "      <td>Victoria Secret</td>\n",
       "      <td>Fit Sample</td>\n",
       "      <td>Regular</td>\n",
       "      <td>No Embellishment</td>\n",
       "      <td>7</td>\n",
       "      <td>26</td>\n",
       "      <td>283</td>\n",
       "    </tr>\n",
       "    <tr>\n",
       "      <th>3</th>\n",
       "      <td>32</td>\n",
       "      <td>Female</td>\n",
       "      <td>A</td>\n",
       "      <td>Thong</td>\n",
       "      <td>Victoria Secret</td>\n",
       "      <td>Fit Sample</td>\n",
       "      <td>Regular</td>\n",
       "      <td>Simple</td>\n",
       "      <td>8</td>\n",
       "      <td>35</td>\n",
       "      <td>474</td>\n",
       "    </tr>\n",
       "    <tr>\n",
       "      <th>4</th>\n",
       "      <td>34</td>\n",
       "      <td>Male</td>\n",
       "      <td>Supper</td>\n",
       "      <td>Men Brief</td>\n",
       "      <td>Calvin Klein</td>\n",
       "      <td>Photoshoot Sample</td>\n",
       "      <td>Regular</td>\n",
       "      <td>Simple</td>\n",
       "      <td>2</td>\n",
       "      <td>43</td>\n",
       "      <td>153</td>\n",
       "    </tr>\n",
       "  </tbody>\n",
       "</table>\n",
       "</div>"
      ],
      "text/plain": [
       "   SMO_Age SMO_Gender SMO_KPI_Grade Sub_Garment_Type            Brand  \\\n",
       "0       28     Female             A         G String  Victoria Secret   \n",
       "1       34     Female             A        Boy Short  Victoria Secret   \n",
       "2       26     Female             A         G String  Victoria Secret   \n",
       "3       32     Female             A            Thong  Victoria Secret   \n",
       "4       34       Male        Supper        Men Brief     Calvin Klein   \n",
       "\n",
       "         Sample_Type Fabric_Complexity Embellishment_Level  Sewing_Units  \\\n",
       "0         Fit Sample           Regular    No Embellishment             8   \n",
       "1         Fit Sample         Difficult              Simple             2   \n",
       "2         Fit Sample           Regular    No Embellishment             7   \n",
       "3         Fit Sample           Regular              Simple             8   \n",
       "4  Photoshoot Sample           Regular              Simple             2   \n",
       "\n",
       "   Incentive_Amount  Sewing_Time_Minutes  \n",
       "0                26                   92  \n",
       "1                61                  190  \n",
       "2                26                  283  \n",
       "3                35                  474  \n",
       "4                43                  153  "
      ]
     },
     "execution_count": 60,
     "metadata": {},
     "output_type": "execute_result"
    }
   ],
   "source": [
    "df.head()"
   ]
  },
  {
   "cell_type": "raw",
   "id": "bd12615d-8e24-46ea-95d6-3401c9a7d361",
   "metadata": {},
   "source": [
    "object_cols = df.select_dtypes(include='object').columns\n",
    "label_encoder = LabelEncoder()\n",
    "\n",
    "for col in object_cols:\n",
    "    df[col] = label_encoder.fit_transform(df[col])"
   ]
  },
  {
   "cell_type": "code",
   "execution_count": 62,
   "id": "32229ce9-4908-4e7a-bfe8-ae6931c2660a",
   "metadata": {},
   "outputs": [
    {
     "name": "stdout",
     "output_type": "stream",
     "text": [
      "Variable: SMO_Age\n",
      "Categories: [28 34 26 32 42 46 41 27 45 24 38 30 29 36 35 51 43 25 22 40 33 55 50]\n",
      "==============================\n",
      "Variable: SMO_Gender\n",
      "Categories: ['Female' 'Male']\n",
      "==============================\n",
      "Variable: SMO_KPI_Grade\n",
      "Categories: ['A' 'Supper' 'B' 'C' 'Not Graded']\n",
      "==============================\n",
      "Variable: Sub_Garment_Type\n",
      "Categories: ['G String' 'Boy Short' 'Thong' 'Men Brief' 'Boxer' 'Hipster' 'Cami'\n",
      " 'Brief' 'Tank Top' 'Bralette']\n",
      "==============================\n",
      "Variable: Brand\n",
      "Categories: ['Victoria Secret' 'Calvin Klein' 'Tommy John' 'Lacoste' 'Nike' 'LIDL']\n",
      "==============================\n",
      "Variable: Sample_Type\n",
      "Categories: ['Fit Sample' 'Photoshoot Sample' 'SMS Sample' 'Red Tag Sample'\n",
      " 'Pre Production Sample' 'Proto Sample' 'Size Set Sample']\n",
      "==============================\n",
      "Variable: Fabric_Complexity\n",
      "Categories: ['Regular' 'Difficult']\n",
      "==============================\n",
      "Variable: Embellishment_Level\n",
      "Categories: ['No Embellishment' 'Simple' 'Moderate' 'Difficult']\n",
      "==============================\n",
      "Variable: Sewing_Units\n",
      "Categories: [ 8  2  7  1  3  4  5  6 12  9 18 17 11 10 25 16 14 30 40 15 13 20 22 36\n",
      " 28 34 32 39 38 24 26 19 33 21 35 27 23 29 31 37]\n",
      "==============================\n",
      "Variable: Incentive_Amount\n",
      "Categories: [ 26  61  35  43  22  16  40  39  27  44  31  34  47 120  58  33  32  23\n",
      "  28  50   3   7  64  55  52   8  80  76  21  15   4  88  13  20 108  53\n",
      "  29  25  12  63  95 126  78  54  90  72 151  10  24 110  30  97  18  14\n",
      "  17  56  82 105 100   5 147  73  38  11   2 138  70  19  67 122  57 176\n",
      "  48  89  66  49  83  65  42  41  37   6  71 123 175 130  51 134 133  68\n",
      "  75 140 128 115  59  81 132  85 114 191 135  74  46  60  94  91]\n",
      "==============================\n",
      "Variable: Sewing_Time_Minutes\n",
      "Categories: [  92  190  283  474  153   54   74  349  255  204  309  258  174  233\n",
      "  178  413  291  487  516  241  184  465   50   84  267  422  338   81\n",
      "  117  116  253  250  503  252  251  334  123   51  177  147  288  216\n",
      "  162  119   94   93   96   95   53   22   21   30   18   78   41  234\n",
      "  135   87   43  684  744  495  449  165  164  187  526  525  472   68\n",
      "  169  168  266  311  302  691  247  196  141  176  306  279   47  391\n",
      "  212  200  166  201  100   49  401  468  222  140  211  213  106  321\n",
      "  142   80   42   36   45  471  610  270  170  423  133  144  394  535\n",
      " 1158 1356  312  112  928  927  156   71   61  282  107   48  357  268\n",
      "  722   90  480   98  194  378  219  180  565   85  752   38  591  611\n",
      "  855  396   62  172  792  186  466  285  284  134  101  388  355  430\n",
      "  113  445  671  146  145  148  492  393  230  410  332  351  150  923\n",
      "  428   79   72  173  129  669   44  486  494  407  214  584  579  136\n",
      "  406  578  265  220  619  384  342  641  570  695   58  185  326   89\n",
      "  102  485   34  408  582  427  198  199  617  506   82  415  434  316\n",
      "  325  244  447  424  867  324  242   75   64   37  248  203  374  645\n",
      "  221  452  202 1184  240  313   59  341  235  323  322  385  118  246\n",
      "  245   55  239  226  327  286  108  339   66  188  192  353  377  505\n",
      "  628  891  263   39  595  903  508  920  836  416  420  502  275  121\n",
      " 1433  308  183  182  626  277  874  207  720  688   46 1194 1113 1193\n",
      "  499  498  232  761   86  635  634 1470   88 1047  171  328  137  343\n",
      "  110  143  127  126  167   83 1004  717  716   60   70  104 1269  105\n",
      "  319  130  264  600   97  224  330  249  491  390  490  463  436  435\n",
      "  225  365  356  402   69  560  540  680  640  111  161   20  817  574\n",
      "  163  317  753  237  432   77   76  405  151  456  538  949  566 1249\n",
      " 1248   31  382  550  260  120  197  764  114  493  350 1260  366  991\n",
      "  340  679  132  488  780  139  131  437  254  515  412 1245 1212  103\n",
      "  189  433  160   65   99  745  558  419  292  482  834  417  700  179\n",
      "  195  372  501  451  364  363  128  191  345  149  772  122   19  125\n",
      "  109  209  370   25  310  274  124  803  776  228  227  281  256  552\n",
      "  477  618  369   57   56  518  562  712  455  699  649 1492  300  500\n",
      "  218  572  736  879  510  215  557  478  395  368  601  429  262  159\n",
      "  464  693  347  346  800  820  819  362  725  542 1207  590  481  942\n",
      "  941  710  950  397  280  489  462  461  987  946  418  273  243 1030\n",
      " 1000  307  670  629  576  553 1011  193  206  537   52  454  453   40\n",
      "  457  238  651  586  935 1088 1024  371  509  660  543  738  769  768\n",
      " 1031 1089 1430  797  661  460  229  519  575  658  657  759   24  608\n",
      "  359  296  295  426  425  740  593 1142   28   32  880  830  483 1100\n",
      "  290  960  414  348   33  662  555  711  668  138  756  861  616  335\n",
      "  278  443  403  567  588 1143  631 1703 1702  735  694 1429  441  367\n",
      "  115  329   27  701  857  439 1573 1825  440  231  205  939  154  615\n",
      "  809  473  331 1227 1124  157  763  289  448  655  376  375 1134  624\n",
      "  536 1666 1665  674  673 1827  648  210  155  750  297  223   63  360\n",
      "  257  573  664  523  822   67  400  802  354  479  697 1240  647  646\n",
      "  380 1237  301  409  561  361  314  158  754  517  666  621  866  788\n",
      "  672  504  762  898  299  637  569  577  583  755 1364  532 1226 1225\n",
      "  719   73  152  825 1500  484  531  806  564  563 1019  383  793  389\n",
      "  751  520  760  527  470  272  271  352  895  804  602  581  236  913\n",
      "  303  392 1140  287 1300  337  336  294  571  528  442  458  858  269\n",
      "  475  521  276  771  930   91 1359 1358  846  638  467  373  708  534\n",
      " 1692 1133  996  970 1147  931 1010  982 1009  981  614  652  856  603\n",
      "  979  842  748  818  934 1059  731 1070  217  978 1001  916  587  589\n",
      "  709  181  320  175  514  729  261  522  659 1469 1431 1286 1252  625\n",
      "  298  259  599  841 1476   35   23  633  993  546  623  636  814 1235\n",
      "  654  513  914  404 1129  956  955  940  810  642  529  548  972  798\n",
      "  315  732  305  450  900  899 1512 1052 1719  663  945  644 1018 1043\n",
      " 1041 1576  777  730   26  653  908  907 1082  421 1345  705 1318 1343\n",
      "  948  860 1629  620 1123  952 1419  469  632  446  533  911 1425  875\n",
      " 1221 1130 1005 1075 1267  868  706 1704  686 1434 1383 1398 1397 1236\n",
      " 1191  742  609 1376  707  605  943  912 1002 1112 1072 1208 1107 1519\n",
      " 1254  890  833  704  678 1409 1085  774  497  698  304  933 1669 1280\n",
      "  344  692  789  728  910  909 1064  944  877  876  459 1015 1242 1120\n",
      " 1119  715  821 1154 1155  897  677  786  785 1478 1477  665  630  947\n",
      "  650 1008 1442 1441  208  703 1846 1766  749 1136 1033  901  724  984\n",
      "  551 1202  690  398  773 1278 1244 1420 1035 1020  333  869  293  592\n",
      "  675 1026 1040 1196  568]\n",
      "==============================\n"
     ]
    }
   ],
   "source": [
    "# Function to display unique categories for each variable\n",
    "def identify_categories(df):\n",
    "    for column in df.columns:\n",
    "        unique_values = df[column].unique()\n",
    "        print(f\"Variable: {column}\")\n",
    "        print(f\"Categories: {unique_values}\")\n",
    "        print(\"=\"*30)\n",
    "\n",
    "identify_categories(df)"
   ]
  },
  {
   "cell_type": "raw",
   "id": "9eeaa618-b935-4ec4-805f-68afb3cb4c5e",
   "metadata": {},
   "source": [
    "from sklearn.preprocessing import PowerTransformer\n",
    "num_cols = df.select_dtypes(include=('int64', 'float64')).columns\n",
    "pt =  PowerTransformer(method='box-cox', standardize=True) \n",
    "\n",
    "for col in num_cols:\n",
    "    df[col] = pt.fit_transform(df[[col]].values)"
   ]
  },
  {
   "cell_type": "raw",
   "id": "24d3fd9e-6c47-48f5-9c92-e41d41a269ea",
   "metadata": {},
   "source": [
    "from sklearn.preprocessing import PowerTransformer\n",
    "num_cols = df.select_dtypes(include=('int64', 'float64')).columns\n",
    "pt =  PowerTransformer(method='yeo-johnson', standardize=True) \n",
    "\n",
    "for col in num_cols:\n",
    "    df[col] = pt.fit_transform(df[[col]].values)"
   ]
  },
  {
   "cell_type": "code",
   "execution_count": 64,
   "id": "b50b1da2-2151-487b-879d-21365051fc8e",
   "metadata": {},
   "outputs": [
    {
     "data": {
      "text/html": [
       "<div>\n",
       "<style scoped>\n",
       "    .dataframe tbody tr th:only-of-type {\n",
       "        vertical-align: middle;\n",
       "    }\n",
       "\n",
       "    .dataframe tbody tr th {\n",
       "        vertical-align: top;\n",
       "    }\n",
       "\n",
       "    .dataframe thead th {\n",
       "        text-align: right;\n",
       "    }\n",
       "</style>\n",
       "<table border=\"1\" class=\"dataframe\">\n",
       "  <thead>\n",
       "    <tr style=\"text-align: right;\">\n",
       "      <th></th>\n",
       "      <th>SMO_Age</th>\n",
       "      <th>SMO_Gender</th>\n",
       "      <th>SMO_KPI_Grade</th>\n",
       "      <th>Sub_Garment_Type</th>\n",
       "      <th>Brand</th>\n",
       "      <th>Sample_Type</th>\n",
       "      <th>Fabric_Complexity</th>\n",
       "      <th>Embellishment_Level</th>\n",
       "      <th>Sewing_Units</th>\n",
       "      <th>Incentive_Amount</th>\n",
       "      <th>Sewing_Time_Minutes</th>\n",
       "    </tr>\n",
       "  </thead>\n",
       "  <tbody>\n",
       "    <tr>\n",
       "      <th>0</th>\n",
       "      <td>3.33</td>\n",
       "      <td>Female</td>\n",
       "      <td>A</td>\n",
       "      <td>G String</td>\n",
       "      <td>Victoria Secret</td>\n",
       "      <td>Fit Sample</td>\n",
       "      <td>Regular</td>\n",
       "      <td>No Embellishment</td>\n",
       "      <td>2.08</td>\n",
       "      <td>3.26</td>\n",
       "      <td>4.52</td>\n",
       "    </tr>\n",
       "    <tr>\n",
       "      <th>1</th>\n",
       "      <td>3.53</td>\n",
       "      <td>Female</td>\n",
       "      <td>A</td>\n",
       "      <td>Boy Short</td>\n",
       "      <td>Victoria Secret</td>\n",
       "      <td>Fit Sample</td>\n",
       "      <td>Difficult</td>\n",
       "      <td>Simple</td>\n",
       "      <td>0.69</td>\n",
       "      <td>4.11</td>\n",
       "      <td>5.25</td>\n",
       "    </tr>\n",
       "    <tr>\n",
       "      <th>2</th>\n",
       "      <td>3.26</td>\n",
       "      <td>Female</td>\n",
       "      <td>A</td>\n",
       "      <td>G String</td>\n",
       "      <td>Victoria Secret</td>\n",
       "      <td>Fit Sample</td>\n",
       "      <td>Regular</td>\n",
       "      <td>No Embellishment</td>\n",
       "      <td>1.95</td>\n",
       "      <td>3.26</td>\n",
       "      <td>5.65</td>\n",
       "    </tr>\n",
       "    <tr>\n",
       "      <th>3</th>\n",
       "      <td>3.47</td>\n",
       "      <td>Female</td>\n",
       "      <td>A</td>\n",
       "      <td>Thong</td>\n",
       "      <td>Victoria Secret</td>\n",
       "      <td>Fit Sample</td>\n",
       "      <td>Regular</td>\n",
       "      <td>Simple</td>\n",
       "      <td>2.08</td>\n",
       "      <td>3.56</td>\n",
       "      <td>6.16</td>\n",
       "    </tr>\n",
       "    <tr>\n",
       "      <th>4</th>\n",
       "      <td>3.53</td>\n",
       "      <td>Male</td>\n",
       "      <td>Supper</td>\n",
       "      <td>Men Brief</td>\n",
       "      <td>Calvin Klein</td>\n",
       "      <td>Photoshoot Sample</td>\n",
       "      <td>Regular</td>\n",
       "      <td>Simple</td>\n",
       "      <td>0.69</td>\n",
       "      <td>3.76</td>\n",
       "      <td>5.03</td>\n",
       "    </tr>\n",
       "  </tbody>\n",
       "</table>\n",
       "</div>"
      ],
      "text/plain": [
       "   SMO_Age SMO_Gender SMO_KPI_Grade Sub_Garment_Type            Brand  \\\n",
       "0     3.33     Female             A         G String  Victoria Secret   \n",
       "1     3.53     Female             A        Boy Short  Victoria Secret   \n",
       "2     3.26     Female             A         G String  Victoria Secret   \n",
       "3     3.47     Female             A            Thong  Victoria Secret   \n",
       "4     3.53       Male        Supper        Men Brief     Calvin Klein   \n",
       "\n",
       "         Sample_Type Fabric_Complexity Embellishment_Level  Sewing_Units  \\\n",
       "0         Fit Sample           Regular    No Embellishment          2.08   \n",
       "1         Fit Sample         Difficult              Simple          0.69   \n",
       "2         Fit Sample           Regular    No Embellishment          1.95   \n",
       "3         Fit Sample           Regular              Simple          2.08   \n",
       "4  Photoshoot Sample           Regular              Simple          0.69   \n",
       "\n",
       "   Incentive_Amount  Sewing_Time_Minutes  \n",
       "0              3.26                 4.52  \n",
       "1              4.11                 5.25  \n",
       "2              3.26                 5.65  \n",
       "3              3.56                 6.16  \n",
       "4              3.76                 5.03  "
      ]
     },
     "execution_count": 64,
     "metadata": {},
     "output_type": "execute_result"
    }
   ],
   "source": [
    "if 'Sewing_Units' in df.columns:\n",
    "    df['Sewing_Units'] = round(np.log(df['Sewing_Units']), 2)\n",
    "if 'Incentive_Amount' in df.columns:\n",
    "    df['Incentive_Amount'] = round(np.log(df['Incentive_Amount']), 2)\n",
    "if 'SMO_Age' in df.columns:\n",
    "    df['SMO_Age'] = round(np.log(df['SMO_Age']), 2)\n",
    "if 'Sewing_Time_Minutes' in df.columns:\n",
    "    df['Sewing_Time_Minutes'] = round(np.log(df['Sewing_Time_Minutes']), 2)\n",
    "\n",
    "df.head()"
   ]
  },
  {
   "cell_type": "raw",
   "id": "e73a587c-4c09-4a1f-805d-a39d3da0cb9d",
   "metadata": {},
   "source": [
    "from sklearn.preprocessing import MinMaxScaler\n",
    "\n",
    "num_cols = df.select_dtypes(include=('int64', 'float64')).columns\n",
    "standard_scaler = MinMaxScaler()\n",
    "\n",
    "for col in num_cols:\n",
    "    df[col] = standard_scaler.fit_transform(df[[col]])"
   ]
  },
  {
   "cell_type": "code",
   "execution_count": 66,
   "id": "e460a31a-0655-41b1-9796-7230aee0675f",
   "metadata": {},
   "outputs": [
    {
     "data": {
      "image/png": "[encoded data removed]",
      "text/plain": [
       "<Figure size 1500x800 with 4 Axes>"
      ]
     },
     "metadata": {},
     "output_type": "display_data"
    },
    {
     "name": "stdout",
     "output_type": "stream",
     "text": [
      "SMO_Age: 0 outliers detected\n",
      "Sewing_Units: 137 outliers detected\n",
      "Incentive_Amount: 331 outliers detected\n",
      "Sewing_Time_Minutes: 17 outliers detected\n"
     ]
    }
   ],
   "source": [
    "def detect_outliers_iqr(df):\n",
    "    outlier_dict = {}\n",
    "    for column in df.select_dtypes(include=['int64', 'float64']).columns:\n",
    "        Q1 = df[column].quantile(0.25)\n",
    "        Q3 = df[column].quantile(0.75)\n",
    "        IQR = Q3 - Q1\n",
    "        lower_bound = Q1 - 1.5 * IQR\n",
    "        upper_bound = Q3 + 1.5 * IQR\n",
    "        outliers = df[(df[column] < lower_bound) | (df[column] > upper_bound)][column]\n",
    "        outlier_dict[column] = outliers\n",
    "    return outlier_dict\n",
    "\n",
    "outliers = detect_outliers_iqr(df)\n",
    "\n",
    "plt.figure(figsize=(15, 8))\n",
    "for i, column in enumerate(df.select_dtypes(include=['int64', 'float64']).columns, 1):\n",
    "    plt.subplot(3, 3, i)\n",
    "    sns.boxplot(x=df[column])\n",
    "    plt.title(column)\n",
    "plt.tight_layout()\n",
    "plt.show()\n",
    "\n",
    "for column, outlier_values in outliers.items():\n",
    "    print(f\"{column}: {len(outlier_values)} outliers detected\")"
   ]
  },
  {
   "cell_type": "code",
   "execution_count": 67,
   "id": "9ac43d94-7792-45ed-b889-0a29092119fe",
   "metadata": {},
   "outputs": [],
   "source": [
    "kpi_grade_scores = {'Supper': 5, 'A': 4, 'B': 3, 'C': 2, 'Not Graded': 1}\n",
    "fabric_type_scores = {'Regular': 1, 'Difficult': 2}\n",
    "embellishment_scores = {'No Embellishment': 1, 'Simple': 2, 'Moderate': 3, 'Difficult': 4}\n",
    "sample_type_scores = {'Proto Sample': 1, 'SMS Sample': 2, 'Fit Sample': 3, 'Photoshoot Sample': 4, 'Size Set Sample': 5, 'Pre Production Sample': 6, 'Red Tag Sample': 7}\n",
    "sub_garment_scores = {'G String': 1, 'Cami': 2, 'Tank Top': 3, 'Thong': 4, 'Hipster': 5, 'Men Brief': 6, 'Brief': 7, 'Boy Short': 8, 'Bralette': 9, 'Boxer': 10}\n",
    "brand_scores={'Victoria Secret':1, 'Calvin Klein':2, 'Tommy John':3, 'LIDL':4, 'Nike':5, 'Lacoste':6}\n",
    "smo_gender_scores={'Female':1, 'Male':2}\n",
    "garment_scores={'Women Lower Body Underwear':1, 'Men Lower Body Underwear':2, 'Women Upper Body Underwear':3, 'Men Upper Body Underwear': 4}"
   ]
  },
  {
   "cell_type": "code",
   "execution_count": 70,
   "id": "579c1a9f-9e59-4654-9be8-c1d5d3e4501e",
   "metadata": {},
   "outputs": [],
   "source": [
    "df['SMO_KPI_Grade'] = df['SMO_KPI_Grade'].map(kpi_grade_scores)\n",
    "df['Embellishment_Level'] = df['Embellishment_Level'].map(embellishment_scores)\n",
    "df['Sample_Type'] = df['Sample_Type'].map(sample_type_scores)\n",
    "df['Sub_Garment_Type'] = df['Sub_Garment_Type'].map(sub_garment_scores)\n",
    "df['Brand'] = df['Brand'].map(brand_scores)\n",
    "df['SMO_Gender'] = df['SMO_Gender'].map(smo_gender_scores)\n",
    "df['Fabric_Complexity'] = df['Fabric_Complexity'].map(fabric_type_scores)"
   ]
  },
  {
   "cell_type": "code",
   "execution_count": 72,
   "id": "02b9f02a-d580-4923-8300-813720a3983d",
   "metadata": {},
   "outputs": [
    {
     "data": {
      "text/html": [
       "<div>\n",
       "<style scoped>\n",
       "    .dataframe tbody tr th:only-of-type {\n",
       "        vertical-align: middle;\n",
       "    }\n",
       "\n",
       "    .dataframe tbody tr th {\n",
       "        vertical-align: top;\n",
       "    }\n",
       "\n",
       "    .dataframe thead th {\n",
       "        text-align: right;\n",
       "    }\n",
       "</style>\n",
       "<table border=\"1\" class=\"dataframe\">\n",
       "  <thead>\n",
       "    <tr style=\"text-align: right;\">\n",
       "      <th></th>\n",
       "      <th>SMO_Age</th>\n",
       "      <th>SMO_Gender</th>\n",
       "      <th>SMO_KPI_Grade</th>\n",
       "      <th>Sub_Garment_Type</th>\n",
       "      <th>Brand</th>\n",
       "      <th>Sample_Type</th>\n",
       "      <th>Fabric_Complexity</th>\n",
       "      <th>Embellishment_Level</th>\n",
       "      <th>Sewing_Units</th>\n",
       "      <th>Incentive_Amount</th>\n",
       "      <th>Sewing_Time_Minutes</th>\n",
       "    </tr>\n",
       "  </thead>\n",
       "  <tbody>\n",
       "    <tr>\n",
       "      <th>0</th>\n",
       "      <td>3.33</td>\n",
       "      <td>1</td>\n",
       "      <td>4</td>\n",
       "      <td>1</td>\n",
       "      <td>1</td>\n",
       "      <td>3</td>\n",
       "      <td>1</td>\n",
       "      <td>1</td>\n",
       "      <td>2.08</td>\n",
       "      <td>3.26</td>\n",
       "      <td>4.52</td>\n",
       "    </tr>\n",
       "    <tr>\n",
       "      <th>1</th>\n",
       "      <td>3.53</td>\n",
       "      <td>1</td>\n",
       "      <td>4</td>\n",
       "      <td>8</td>\n",
       "      <td>1</td>\n",
       "      <td>3</td>\n",
       "      <td>2</td>\n",
       "      <td>2</td>\n",
       "      <td>0.69</td>\n",
       "      <td>4.11</td>\n",
       "      <td>5.25</td>\n",
       "    </tr>\n",
       "    <tr>\n",
       "      <th>2</th>\n",
       "      <td>3.26</td>\n",
       "      <td>1</td>\n",
       "      <td>4</td>\n",
       "      <td>1</td>\n",
       "      <td>1</td>\n",
       "      <td>3</td>\n",
       "      <td>1</td>\n",
       "      <td>1</td>\n",
       "      <td>1.95</td>\n",
       "      <td>3.26</td>\n",
       "      <td>5.65</td>\n",
       "    </tr>\n",
       "    <tr>\n",
       "      <th>3</th>\n",
       "      <td>3.47</td>\n",
       "      <td>1</td>\n",
       "      <td>4</td>\n",
       "      <td>4</td>\n",
       "      <td>1</td>\n",
       "      <td>3</td>\n",
       "      <td>1</td>\n",
       "      <td>2</td>\n",
       "      <td>2.08</td>\n",
       "      <td>3.56</td>\n",
       "      <td>6.16</td>\n",
       "    </tr>\n",
       "    <tr>\n",
       "      <th>4</th>\n",
       "      <td>3.53</td>\n",
       "      <td>2</td>\n",
       "      <td>5</td>\n",
       "      <td>6</td>\n",
       "      <td>2</td>\n",
       "      <td>4</td>\n",
       "      <td>1</td>\n",
       "      <td>2</td>\n",
       "      <td>0.69</td>\n",
       "      <td>3.76</td>\n",
       "      <td>5.03</td>\n",
       "    </tr>\n",
       "  </tbody>\n",
       "</table>\n",
       "</div>"
      ],
      "text/plain": [
       "   SMO_Age  SMO_Gender  SMO_KPI_Grade  Sub_Garment_Type  Brand  Sample_Type  \\\n",
       "0     3.33           1              4                 1      1            3   \n",
       "1     3.53           1              4                 8      1            3   \n",
       "2     3.26           1              4                 1      1            3   \n",
       "3     3.47           1              4                 4      1            3   \n",
       "4     3.53           2              5                 6      2            4   \n",
       "\n",
       "   Fabric_Complexity  Embellishment_Level  Sewing_Units  Incentive_Amount  \\\n",
       "0                  1                    1          2.08              3.26   \n",
       "1                  2                    2          0.69              4.11   \n",
       "2                  1                    1          1.95              3.26   \n",
       "3                  1                    2          2.08              3.56   \n",
       "4                  1                    2          0.69              3.76   \n",
       "\n",
       "   Sewing_Time_Minutes  \n",
       "0                 4.52  \n",
       "1                 5.25  \n",
       "2                 5.65  \n",
       "3                 6.16  \n",
       "4                 5.03  "
      ]
     },
     "execution_count": 72,
     "metadata": {},
     "output_type": "execute_result"
    }
   ],
   "source": [
    "df.head()"
   ]
  },
  {
   "cell_type": "code",
   "execution_count": 74,
   "id": "a7305cf7-c724-48cd-85c7-47e0b0bfe03e",
   "metadata": {},
   "outputs": [
    {
     "data": {
      "text/plain": [
       "SMO_Age                0\n",
       "SMO_Gender             0\n",
       "SMO_KPI_Grade          0\n",
       "Sub_Garment_Type       0\n",
       "Brand                  0\n",
       "Sample_Type            0\n",
       "Fabric_Complexity      0\n",
       "Embellishment_Level    0\n",
       "Sewing_Units           0\n",
       "Incentive_Amount       0\n",
       "Sewing_Time_Minutes    0\n",
       "dtype: int64"
      ]
     },
     "execution_count": 74,
     "metadata": {},
     "output_type": "execute_result"
    }
   ],
   "source": [
    "df.isna().sum()"
   ]
  },
  {
   "cell_type": "code",
   "execution_count": 76,
   "id": "eadece96-085d-49fa-818e-46c9679040f3",
   "metadata": {},
   "outputs": [],
   "source": [
    "from sklearn.model_selection import train_test_split\n",
    "\n",
    "X = df.drop(['Sewing_Time_Minutes'], axis =1 )\n",
    "y = df['Sewing_Time_Minutes']"
   ]
  },
  {
   "cell_type": "raw",
   "id": "739f5398-8af9-4306-896a-0673544bbd40",
   "metadata": {},
   "source": [
    "from sklearn.preprocessing import OneHotEncoder, StandardScaler\n",
    "oh_transformer = OneHotEncoder()\n",
    "numeric_transformer = StandardScaler()\n",
    "categorical_cols = X.select_dtypes('O').columns.tolist()\n",
    "numerical_cols = X.select_dtypes(exclude = 'O').columns.tolist()\n",
    "preprocessor = ColumnTransformer(\n",
    "    transformers=[\n",
    "        (\"OneHotEncoder\", oh_transformer, categorical_cols),\n",
    "        (\"StandardScaler\", numeric_transformer, numerical_cols),\n",
    "    ]\n",
    ")\n",
    "X_scaled = preprocessor.fit_transform(X)\n",
    "X_scaled"
   ]
  },
  {
   "cell_type": "code",
   "execution_count": 78,
   "id": "6d6bf1d4-02d0-4981-af1e-43ab78975ab5",
   "metadata": {},
   "outputs": [],
   "source": [
    "X_train, X_test, y_train, y_test = train_test_split(X, y, test_size=0.25, random_state=42)"
   ]
  },
  {
   "cell_type": "code",
   "execution_count": 80,
   "id": "d7cddf70-d855-4456-a9ac-6708f27f032c",
   "metadata": {},
   "outputs": [
    {
     "name": "stdout",
     "output_type": "stream",
     "text": [
      "<class 'pandas.core.frame.DataFrame'>\n",
      "Index: 9163 entries, 0 to 9351\n",
      "Data columns (total 11 columns):\n",
      " #   Column               Non-Null Count  Dtype  \n",
      "---  ------               --------------  -----  \n",
      " 0   SMO_Age              9163 non-null   float64\n",
      " 1   SMO_Gender           9163 non-null   int64  \n",
      " 2   SMO_KPI_Grade        9163 non-null   int64  \n",
      " 3   Sub_Garment_Type     9163 non-null   int64  \n",
      " 4   Brand                9163 non-null   int64  \n",
      " 5   Sample_Type          9163 non-null   int64  \n",
      " 6   Fabric_Complexity    9163 non-null   int64  \n",
      " 7   Embellishment_Level  9163 non-null   int64  \n",
      " 8   Sewing_Units         9163 non-null   float64\n",
      " 9   Incentive_Amount     9163 non-null   float64\n",
      " 10  Sewing_Time_Minutes  9163 non-null   float64\n",
      "dtypes: float64(4), int64(7)\n",
      "memory usage: 859.0 KB\n"
     ]
    }
   ],
   "source": [
    "df.info()"
   ]
  },
  {
   "cell_type": "markdown",
   "id": "237f0d42-0d27-4c86-8153-71c530ce0c8e",
   "metadata": {},
   "source": [
    "### Linear Regression"
   ]
  },
  {
   "cell_type": "code",
   "execution_count": 83,
   "id": "1951770a-24e0-4126-b8c5-77c8081e8fad",
   "metadata": {
    "scrolled": true
   },
   "outputs": [
    {
     "name": "stdout",
     "output_type": "stream",
     "text": [
      "R² Score: 0.8984\n",
      "Mean Absolute Error: 0.1754\n"
     ]
    }
   ],
   "source": [
    "from sklearn.linear_model import LinearRegression\n",
    "from sklearn.metrics import mean_absolute_error, r2_score, mean_squared_error\n",
    "from sklearn.model_selection import GridSearchCV, train_test_split, cross_val_score, StratifiedKFold, RandomizedSearchCV\n",
    "\n",
    "model = LinearRegression()\n",
    "model.fit(X_train, y_train)\n",
    "\n",
    "y_pred = model.predict(X_test)\n",
    "\n",
    "r2 = r2_score(y_test, y_pred)\n",
    "mae = mean_absolute_error(y_test, y_pred)\n",
    "\n",
    "print(f\"R² Score: {r2:.4f}\")\n",
    "print(f\"Mean Absolute Error: {mae:.4f}\")"
   ]
  },
  {
   "cell_type": "code",
   "execution_count": 85,
   "id": "82131665-4ef8-4bfe-a9ea-cafe7c924bc1",
   "metadata": {},
   "outputs": [
    {
     "name": "stdout",
     "output_type": "stream",
     "text": [
      "\n",
      "Training Performance\n",
      "R² Score: 0.9064\n",
      "Mean Absolute Error: 0.1630\n",
      "Root Mean Squared Error: 0.2334\n",
      "\n",
      "Test Performance\n",
      "R² Score: 0.8984\n",
      "Mean Absolute Error: 0.1754\n",
      "Root Mean Squared Error: 0.2519\n"
     ]
    }
   ],
   "source": [
    "model = LinearRegression()\n",
    "model.fit(X_train, y_train)\n",
    "\n",
    "train_pred = model.predict(X_train)\n",
    "train_r2 = r2_score(y_train, train_pred)\n",
    "train_mae = mean_absolute_error(y_train, train_pred)\n",
    "train_rmse = np.sqrt(mean_squared_error(y_train, train_pred))\n",
    "    \n",
    "test_pred = model.predict(X_test)\n",
    "test_r2 = r2_score(y_test, test_pred)\n",
    "test_mae = mean_absolute_error(y_test, test_pred)\n",
    "test_rmse = np.sqrt(mean_squared_error(y_test, test_pred))\n",
    "    \n",
    "print(\"\\nTraining Performance\")\n",
    "print(f\"R² Score: {train_r2:.4f}\")\n",
    "print(f\"Mean Absolute Error: {train_mae:.4f}\")\n",
    "print(f\"Root Mean Squared Error: {train_rmse:.4f}\")\n",
    "    \n",
    "print(\"\\nTest Performance\")\n",
    "print(f\"R² Score: {test_r2:.4f}\")\n",
    "print(f\"Mean Absolute Error: {test_mae:.4f}\")\n",
    "print(f\"Root Mean Squared Error: {test_rmse:.4f}\")"
   ]
  },
  {
   "cell_type": "markdown",
   "id": "498c4323-9250-42e9-9363-6138687df187",
   "metadata": {},
   "source": [
    "### Check Linear Regression Assumption"
   ]
  },
  {
   "cell_type": "code",
   "execution_count": 88,
   "id": "74149336-a1dd-472a-bc59-47457c16b92f",
   "metadata": {},
   "outputs": [],
   "source": [
    "# Compute residuals\n",
    "residuals = y_test - y_pred"
   ]
  },
  {
   "cell_type": "code",
   "execution_count": 90,
   "id": "8031b302-4a64-4f1f-af53-43489cf11f16",
   "metadata": {},
   "outputs": [
    {
     "data": {
      "image/png": "[encoded data removed]",
      "text/plain": [
       "<Figure size 600x400 with 1 Axes>"
      ]
     },
     "metadata": {},
     "output_type": "display_data"
    }
   ],
   "source": [
    "### 1. LINEARITY ASSUMPTION and 2. HOMOSCEDASTICITY###\n",
    "plt.figure(figsize=(6, 4))\n",
    "sns.scatterplot(x=y_pred, y=residuals)\n",
    "plt.axhline(y=0, color='red', linestyle='--')\n",
    "plt.xlabel(\"Predicted Values\")\n",
    "plt.ylabel(\"Residuals\")\n",
    "plt.title(\"Linearity Check: Residuals vs. Predicted Values\")\n",
    "plt.show()"
   ]
  },
  {
   "cell_type": "code",
   "execution_count": 92,
   "id": "bb8d38cb-6360-4a61-9c1d-03b319c16b30",
   "metadata": {},
   "outputs": [
    {
     "data": {
      "image/png": "[encoded data removed]",
      "text/plain": [
       "<Figure size 600x400 with 1 Axes>"
      ]
     },
     "metadata": {},
     "output_type": "display_data"
    }
   ],
   "source": [
    "### 2. NORMALITY OF RESIDUALS ###\n",
    "plt.figure(figsize=(6, 4))\n",
    "sns.histplot(residuals, kde=True, bins=30)\n",
    "plt.xlabel(\"Residuals\")\n",
    "plt.ylabel(\"Frequency\")\n",
    "plt.title(\"Histogram of Residuals\")\n",
    "plt.show()"
   ]
  },
  {
   "cell_type": "code",
   "execution_count": 93,
   "id": "e32dbd70-4602-4297-a6fd-a461659ce251",
   "metadata": {},
   "outputs": [
    {
     "data": {
      "image/png": "[encoded data removed]",
      "text/plain": [
       "<Figure size 600x400 with 1 Axes>"
      ]
     },
     "metadata": {},
     "output_type": "display_data"
    }
   ],
   "source": [
    "import scipy.stats as stats\n",
    "# Q-Q Plot\n",
    "plt.figure(figsize=(6, 4))\n",
    "stats.probplot(residuals, dist=\"norm\", plot=plt)\n",
    "plt.title(\"Q-Q Plot of Residuals\")\n",
    "plt.xlabel(\"Theoretical Quantiles\")\n",
    "plt.ylabel(\"Sample Quantiles\")\n",
    "plt.show()"
   ]
  },
  {
   "cell_type": "code",
   "execution_count": 96,
   "id": "178ec334-bb94-45bb-a490-4294a253c992",
   "metadata": {},
   "outputs": [],
   "source": [
    "from scipy.stats import shapiro\n",
    "from statsmodels.stats.diagnostic import het_breuschpagan\n",
    "from statsmodels.stats.outliers_influence import variance_inflation_factor"
   ]
  },
  {
   "cell_type": "code",
   "execution_count": 98,
   "id": "5c93a38f-53c0-471e-8948-0c4308073afd",
   "metadata": {},
   "outputs": [
    {
     "name": "stdout",
     "output_type": "stream",
     "text": [
      "Shapiro-Wilk Test p-value: 0.0000\n",
      "Residuals are NOT normally distributed (p < 0.05)\n"
     ]
    }
   ],
   "source": [
    "# Shapiro-Wilk test for normality\n",
    "shapiro_test = shapiro(residuals)\n",
    "print(f\"Shapiro-Wilk Test p-value: {shapiro_test.pvalue:.4f}\")\n",
    "if shapiro_test.pvalue < 0.05:\n",
    "    print(\"Residuals are NOT normally distributed (p < 0.05)\")\n",
    "else:\n",
    "    print(\"Residuals appear to be normally distributed (p >= 0.05)\")"
   ]
  },
  {
   "cell_type": "code",
   "execution_count": 100,
   "id": "34727e17-0287-448c-937a-a5a2994f923a",
   "metadata": {},
   "outputs": [
    {
     "data": {
      "image/png": "[encoded data removed]",
      "text/plain": [
       "<Figure size 600x400 with 1 Axes>"
      ]
     },
     "metadata": {},
     "output_type": "display_data"
    }
   ],
   "source": [
    "### 3. INDEPENDENCE OF RESIDUALS (No Autocorrelation of Residuals) ###\n",
    "plt.figure(figsize=(6, 4))\n",
    "sns.lineplot(x=range(len(residuals)), y=residuals)\n",
    "plt.axhline(y=0, color='red', linestyle='--')\n",
    "plt.xlabel(\"Observation Number\")\n",
    "plt.ylabel(\"Residuals\")\n",
    "plt.title(\"Independence Check: Residuals over Observations\")\n",
    "plt.show()"
   ]
  },
  {
   "cell_type": "code",
   "execution_count": 102,
   "id": "2b331a0f-17a2-423f-a987-91efa5dee7e5",
   "metadata": {},
   "outputs": [
    {
     "name": "stdout",
     "output_type": "stream",
     "text": [
      "\n",
      "Durbin-Watson Test Statistic: 2.0240\n",
      "Residuals are likely independent.\n"
     ]
    }
   ],
   "source": [
    "# DURBIN-WATSON TEST\n",
    "import statsmodels.api as sm\n",
    "dw_test = sm.stats.stattools.durbin_watson(residuals)\n",
    "print(f\"\\nDurbin-Watson Test Statistic: {dw_test:.4f}\")\n",
    "if 1.5 < dw_test < 2.5:\n",
    "    print(\"Residuals are likely independent.\")\n",
    "else:\n",
    "    print(\"Possible autocorrelation in residuals.\")"
   ]
  },
  {
   "cell_type": "code",
   "execution_count": 103,
   "id": "8f82496c-faca-428e-927b-7317a4e874dd",
   "metadata": {},
   "outputs": [
    {
     "name": "stdout",
     "output_type": "stream",
     "text": [
      "<class 'pandas.core.frame.DataFrame'>\n",
      "Index: 9163 entries, 0 to 9351\n",
      "Data columns (total 11 columns):\n",
      " #   Column               Non-Null Count  Dtype  \n",
      "---  ------               --------------  -----  \n",
      " 0   SMO_Age              9163 non-null   float64\n",
      " 1   SMO_Gender           9163 non-null   int64  \n",
      " 2   SMO_KPI_Grade        9163 non-null   int64  \n",
      " 3   Sub_Garment_Type     9163 non-null   int64  \n",
      " 4   Brand                9163 non-null   int64  \n",
      " 5   Sample_Type          9163 non-null   int64  \n",
      " 6   Fabric_Complexity    9163 non-null   int64  \n",
      " 7   Embellishment_Level  9163 non-null   int64  \n",
      " 8   Sewing_Units         9163 non-null   float64\n",
      " 9   Incentive_Amount     9163 non-null   float64\n",
      " 10  Sewing_Time_Minutes  9163 non-null   float64\n",
      "dtypes: float64(4), int64(7)\n",
      "memory usage: 859.0 KB\n"
     ]
    }
   ],
   "source": [
    "df.info()"
   ]
  },
  {
   "cell_type": "code",
   "execution_count": 104,
   "id": "821edf36-ac37-4b87-9a84-84c4fe7f52f2",
   "metadata": {},
   "outputs": [
    {
     "name": "stdout",
     "output_type": "stream",
     "text": [
      "Variance Inflation Factor (VIF):\n",
      "               Feature        VIF\n",
      "0              SMO_Age  78.568531\n",
      "1           SMO_Gender   9.313844\n",
      "2        SMO_KPI_Grade  13.108373\n",
      "3     Sub_Garment_Type  10.054089\n",
      "4                Brand   4.136680\n",
      "5          Sample_Type   7.119471\n",
      "6    Fabric_Complexity  15.854177\n",
      "7  Embellishment_Level  14.202330\n",
      "8         Sewing_Units   3.548067\n",
      "9     Incentive_Amount  94.864215\n"
     ]
    }
   ],
   "source": [
    "#### 4.MULTICOLLINEARTY Check ####\n",
    "vif_data = pd.DataFrame()\n",
    "vif_data[\"Feature\"] = X.columns\n",
    "vif_data[\"VIF\"] = [variance_inflation_factor(X.values, i) for i in range(X.shape[1])]\n",
    "print(\"Variance Inflation Factor (VIF):\")\n",
    "print(vif_data)"
   ]
  },
  {
   "cell_type": "raw",
   "id": "c93be6c1-1132-496b-b94a-52cb7ac62708",
   "metadata": {},
   "source": [
    "import pandas as pd\n",
    "from statsmodels.stats.outliers_influence import variance_inflation_factor\n",
    "\n",
    "# Function to calculate and remove high VIF features\n",
    "def remove_high_vif_features(X, threshold=10):\n",
    "    while True:\n",
    "        vif_data = pd.DataFrame()\n",
    "        vif_data[\"Feature\"] = X.columns\n",
    "        vif_data[\"VIF\"] = [variance_inflation_factor(X.values, i) for i in range(X.shape[1])]\n",
    "\n",
    "        max_vif = vif_data[\"VIF\"].max()\n",
    "        if max_vif < threshold:\n",
    "            break  # Stop if all VIF values are below the threshold\n",
    "\n",
    "        # Remove feature with highest VIF\n",
    "        feature_to_remove = vif_data.loc[vif_data[\"VIF\"].idxmax(), \"Feature\"]\n",
    "        print(f\"Removing '{feature_to_remove}' with VIF: {max_vif:.2f}\")\n",
    "        X = X.drop(columns=[feature_to_remove])\n",
    "\n",
    "    return X, vif_data\n",
    "\n",
    "# Apply the function to remove multicollinear variables\n",
    "X_filtered, final_vif_data = remove_high_vif_features(X)\n",
    "\n",
    "# Print final VIF values\n",
    "print(\"Final Variance Inflation Factor (VIF):\")\n",
    "print(final_vif_data)\n"
   ]
  },
  {
   "cell_type": "code",
   "execution_count": 108,
   "id": "4b0614d8-b66b-4856-aafb-fb456e9db42d",
   "metadata": {},
   "outputs": [],
   "source": [
    "# Here linearity assumptions are violated. "
   ]
  },
  {
   "cell_type": "markdown",
   "id": "2c3b4819-15e1-493f-b837-2a0303232c95",
   "metadata": {},
   "source": [
    "### Ridge Regression"
   ]
  },
  {
   "cell_type": "code",
   "execution_count": 111,
   "id": "987b0729-aaee-4669-8c53-07b34965398b",
   "metadata": {},
   "outputs": [
    {
     "name": "stdout",
     "output_type": "stream",
     "text": [
      "\n",
      "Ridge Regression\n",
      "================\n",
      "Best Hyperparameters: {'alpha': 1, 'solver': 'lsqr'}\n",
      "\n",
      "Training Performance\n",
      "R² Score: 0.9064\n",
      "Mean Absolute Error: 0.1630\n",
      "Root Mean Squared Error: 0.2334\n",
      "\n",
      "Test Performance\n",
      "R² Score: 0.8984\n",
      "Mean Absolute Error: 0.1754\n",
      "Root Mean Squared Error: 0.2519\n",
      "\n",
      "================\n"
     ]
    }
   ],
   "source": [
    "from sklearn.linear_model import Ridge\n",
    "from sklearn.model_selection import GridSearchCV\n",
    "from sklearn.metrics import r2_score, mean_absolute_error, mean_squared_error\n",
    "import numpy as np\n",
    "\n",
    "Ridge_Model = {\n",
    "    'Ridge Regression': (Ridge(random_state=42), {\n",
    "        'alpha': [0.01, 0.1, 1, 10, 100],\n",
    "        'solver': ['auto', 'svd', 'cholesky', 'lsqr', 'sparse_cg', 'sag', 'saga']\n",
    "    })\n",
    "}\n",
    "\n",
    "for name, (ridge_model, param_grid) in Ridge_Model.items():\n",
    "    print(f\"\\n{name}\")\n",
    "    print(\"=\" * len(name))\n",
    "    \n",
    "    \n",
    "    grid_search = GridSearchCV(ridge_model, param_grid, cv=5, scoring='r2', n_jobs=-1)\n",
    "    grid_search.fit(X_train, y_train)\n",
    "    \n",
    "   \n",
    "    best_model_ridge = grid_search.best_estimator_\n",
    "    \n",
    "   \n",
    "    train_pred = best_model_ridge.predict(X_train)\n",
    "    train_r2 = r2_score(y_train, train_pred)\n",
    "    train_mae = mean_absolute_error(y_train, train_pred)\n",
    "    train_rmse = np.sqrt(mean_squared_error(y_train, train_pred))\n",
    "    \n",
    "    \n",
    "    test_pred = best_model_ridge.predict(X_test)\n",
    "    test_r2 = r2_score(y_test, test_pred)\n",
    "    test_mae = mean_absolute_error(y_test, test_pred)\n",
    "    test_rmse = np.sqrt(mean_squared_error(y_test, test_pred))\n",
    "    \n",
    "   \n",
    "    print(f\"Best Hyperparameters: {grid_search.best_params_}\")\n",
    "    \n",
    "    print(\"\\nTraining Performance\")\n",
    "    print(f\"R² Score: {train_r2:.4f}\")\n",
    "    print(f\"Mean Absolute Error: {train_mae:.4f}\")\n",
    "    print(f\"Root Mean Squared Error: {train_rmse:.4f}\")\n",
    "    \n",
    "    print(\"\\nTest Performance\")\n",
    "    print(f\"R² Score: {test_r2:.4f}\")\n",
    "    print(f\"Mean Absolute Error: {test_mae:.4f}\")\n",
    "    print(f\"Root Mean Squared Error: {test_rmse:.4f}\")\n",
    "    \n",
    "    print(\"\\n\" + \"=\" * len(name))\n"
   ]
  },
  {
   "cell_type": "markdown",
   "id": "c05a4485-772b-40b3-92bd-27100a8b4f2a",
   "metadata": {},
   "source": [
    "### Lasso Regression"
   ]
  },
  {
   "cell_type": "code",
   "execution_count": 114,
   "id": "c7fd9c22-0dad-4a79-87ce-b70e76d21099",
   "metadata": {},
   "outputs": [],
   "source": [
    "from sklearn.linear_model import Ridge, Lasso\n",
    "\n",
    "Lasso_Model = {\n",
    "    'Lasso Regression': (Lasso(random_state=42), {\n",
    "        'alpha': [0.01, 0.1, 1, 10, 100],\n",
    "        'max_iter': [1000, 5000, 10000]\n",
    "    })\n",
    "}"
   ]
  },
  {
   "cell_type": "code",
   "execution_count": 116,
   "id": "40dbc149-a286-4e47-9f6c-d9ff2dca80f2",
   "metadata": {},
   "outputs": [
    {
     "name": "stdout",
     "output_type": "stream",
     "text": [
      "\n",
      "Lasso Regression\n",
      "================\n",
      "Best Hyperparameters: {'alpha': 0.01, 'max_iter': 1000}\n",
      "\n",
      "Training Performance\n",
      "R² Score: 0.9029\n",
      "Mean Absolute Error: 0.1640\n",
      "Root Mean Squared Error: 0.2377\n",
      "\n",
      "Test Performance\n",
      "R² Score: 0.8971\n",
      "Mean Absolute Error: 0.1741\n",
      "Root Mean Squared Error: 0.2535\n",
      "\n",
      "================\n"
     ]
    }
   ],
   "source": [
    "for name, (lasso_model, param_grid) in Lasso_Model.items():\n",
    "    print(f\"\\n{name}\")\n",
    "    print(\"=\" * len(name))\n",
    "    \n",
    "   \n",
    "    grid_search = GridSearchCV(lasso_model, param_grid, cv=5, scoring='r2', n_jobs=-1)\n",
    "    grid_search.fit(X_train, y_train)\n",
    "    \n",
    "  \n",
    "    best_model_lasso = grid_search.best_estimator_\n",
    "    \n",
    "  \n",
    "    train_pred = best_model_lasso.predict(X_train)\n",
    "    train_r2 = r2_score(y_train, train_pred)\n",
    "    train_mae = mean_absolute_error(y_train, train_pred)\n",
    "    train_rmse = np.sqrt(mean_squared_error(y_train, train_pred))\n",
    "    \n",
    "   \n",
    "    test_pred = best_model_lasso.predict(X_test)\n",
    "    test_r2 = r2_score(y_test, test_pred)\n",
    "    test_mae = mean_absolute_error(y_test, test_pred)\n",
    "    test_rmse = np.sqrt(mean_squared_error(y_test, test_pred))\n",
    "    \n",
    "    \n",
    "    print(f\"Best Hyperparameters: {grid_search.best_params_}\")\n",
    "    \n",
    "    print(\"\\nTraining Performance\")\n",
    "    print(f\"R² Score: {train_r2:.4f}\")\n",
    "    print(f\"Mean Absolute Error: {train_mae:.4f}\")\n",
    "    print(f\"Root Mean Squared Error: {train_rmse:.4f}\")\n",
    "    \n",
    "    print(\"\\nTest Performance\")\n",
    "    print(f\"R² Score: {test_r2:.4f}\")\n",
    "    print(f\"Mean Absolute Error: {test_mae:.4f}\")\n",
    "    print(f\"Root Mean Squared Error: {test_rmse:.4f}\")\n",
    "    \n",
    "    print(\"\\n\" + \"=\" * len(name))\n"
   ]
  },
  {
   "cell_type": "code",
   "execution_count": 118,
   "id": "19c240bb-2203-40c5-a808-56b0592ea28c",
   "metadata": {},
   "outputs": [],
   "source": [
    "from sklearn.tree import DecisionTreeRegressor\n",
    "from sklearn.ensemble import RandomForestRegressor, AdaBoostRegressor, GradientBoostingRegressor, ExtraTreesRegressor\n",
    "from xgboost import XGBRegressor\n",
    "from lightgbm import LGBMRegressor\n",
    "from catboost import CatBoostRegressor\n",
    "from sklearn.svm import SVR\n",
    "from sklearn.neighbors import KNeighborsRegressor\n",
    "from sklearn.model_selection import GridSearchCV, train_test_split, cross_val_score, StratifiedKFold, RandomizedSearchCV\n",
    "from sklearn.preprocessing import MinMaxScaler, StandardScaler, RobustScaler\n",
    "from sklearn.metrics import r2_score, mean_absolute_error, mean_squared_error\n",
    "\n",
    "import warnings\n",
    "warnings.filterwarnings('ignore')"
   ]
  },
  {
   "cell_type": "markdown",
   "id": "2f1e1623-f1e1-4212-9127-6ac01c3cedbc",
   "metadata": {},
   "source": [
    "### Decision Tree Regression"
   ]
  },
  {
   "cell_type": "code",
   "execution_count": 120,
   "id": "72925c93-ac7b-456b-92d7-d85f5afe69c9",
   "metadata": {},
   "outputs": [],
   "source": [
    "Decision_Tree_Model = {\n",
    "    'Decision Tree Regressor': (DecisionTreeRegressor(random_state=42), {\n",
    "        'criterion': ['squared_error', 'absolute_error'],\n",
    "        'max_depth': [10, 20, None],\n",
    "        'min_samples_split': [2, 5, 10],\n",
    "        'min_samples_leaf': [1, 2, 4]\n",
    "    })\n",
    "}"
   ]
  },
  {
   "cell_type": "code",
   "execution_count": 121,
   "id": "3567bd32-c403-42be-ba7c-8f928000d22b",
   "metadata": {},
   "outputs": [
    {
     "name": "stdout",
     "output_type": "stream",
     "text": [
      "\n",
      "Decision Tree Regressor\n",
      "=======================\n",
      "Best Hyperparameters: {'criterion': 'squared_error', 'max_depth': 20, 'min_samples_leaf': 2, 'min_samples_split': 10}\n",
      "\n",
      "Training Performance\n",
      "R² Score: 0.9771\n",
      "Mean Absolute Error: 0.0671\n",
      "Root Mean Squared Error: 0.1156\n",
      "\n",
      "Test Performance\n",
      "R² Score: 0.9364\n",
      "Mean Absolute Error: 0.1185\n",
      "Root Mean Squared Error: 0.1993\n",
      "\n",
      "=======================\n"
     ]
    }
   ],
   "source": [
    "for name, (Decision_Tree_Model, param_grid) in Decision_Tree_Model.items():\n",
    "    print(f\"\\n{name}\")\n",
    "    print(\"=\" * len(name))\n",
    "    \n",
    "    grid_search = GridSearchCV(Decision_Tree_Model, param_grid, cv=5, scoring='r2', n_jobs=-1)\n",
    "    grid_search.fit(X_train, y_train)\n",
    "    \n",
    "   \n",
    "    best_model_DT = grid_search.best_estimator_\n",
    "    \n",
    "   \n",
    "    train_pred = best_model_DT.predict(X_train)\n",
    "    train_r2 = r2_score(y_train, train_pred)\n",
    "    train_mae = mean_absolute_error(y_train, train_pred)\n",
    "    train_rmse = np.sqrt(mean_squared_error(y_train, train_pred))\n",
    "    \n",
    "  \n",
    "    test_pred = best_model_DT.predict(X_test)\n",
    "    test_r2 = r2_score(y_test, test_pred)\n",
    "    test_mae = mean_absolute_error(y_test, test_pred)\n",
    "    test_rmse = np.sqrt(mean_squared_error(y_test, test_pred))\n",
    "    \n",
    "    \n",
    "    print(f\"Best Hyperparameters: {grid_search.best_params_}\")\n",
    "    \n",
    "    print(\"\\nTraining Performance\")\n",
    "    print(f\"R² Score: {train_r2:.4f}\")\n",
    "    print(f\"Mean Absolute Error: {train_mae:.4f}\")\n",
    "    print(f\"Root Mean Squared Error: {train_rmse:.4f}\")\n",
    "    \n",
    "    print(\"\\nTest Performance\")\n",
    "    print(f\"R² Score: {test_r2:.4f}\")\n",
    "    print(f\"Mean Absolute Error: {test_mae:.4f}\")\n",
    "    print(f\"Root Mean Squared Error: {test_rmse:.4f}\")\n",
    "    \n",
    "    print(\"\\n\" + \"=\" * len(name))"
   ]
  },
  {
   "cell_type": "markdown",
   "id": "60aa1805-53e0-49d1-bb10-be0da1ea9c74",
   "metadata": {},
   "source": [
    "### Random Forest Regression"
   ]
  },
  {
   "cell_type": "code",
   "execution_count": 125,
   "id": "2a106fd4-1fa3-4c54-965c-1563137e61c9",
   "metadata": {},
   "outputs": [],
   "source": [
    "Random_Forest_Model = {\n",
    "    'Random Forest Regressor': (RandomForestRegressor(random_state=42), {\n",
    "        'n_estimators': [100, 200, 300],\n",
    "        'max_depth': [10, 20, None],\n",
    "        'min_samples_split': [2, 5, 10],\n",
    "        'min_samples_leaf': [1, 2, 4]\n",
    "    })\n",
    "}"
   ]
  },
  {
   "cell_type": "code",
   "execution_count": 127,
   "id": "263114d8-0e02-4979-b1ba-a9f29301322d",
   "metadata": {},
   "outputs": [
    {
     "name": "stdout",
     "output_type": "stream",
     "text": [
      "\n",
      "Random Forest Regressor\n",
      "=======================\n",
      "Best Hyperparameters: {'max_depth': None, 'min_samples_leaf': 1, 'min_samples_split': 5, 'n_estimators': 200}\n",
      "\n",
      "Training Performance\n",
      "R² Score: 0.9862\n",
      "Mean Absolute Error: 0.0526\n",
      "Root Mean Squared Error: 0.0896\n",
      "\n",
      "Test Performance\n",
      "R² Score: 0.9515\n",
      "Mean Absolute Error: 0.1021\n",
      "Root Mean Squared Error: 0.1741\n",
      "\n",
      "=======================\n"
     ]
    }
   ],
   "source": [
    "for name, (Random_Forest_Model, param_grid) in Random_Forest_Model.items():\n",
    "    print(f\"\\n{name}\")\n",
    "    print(\"=\" * len(name))\n",
    "    \n",
    "    \n",
    "    grid_search = GridSearchCV(Random_Forest_Model, param_grid, cv=5, scoring='r2', n_jobs=-1)\n",
    "    grid_search.fit(X_train, y_train)\n",
    "    \n",
    "   \n",
    "    best_model_RF = grid_search.best_estimator_\n",
    "    \n",
    "  \n",
    "    train_pred = best_model_RF.predict(X_train)\n",
    "    train_r2 = r2_score(y_train, train_pred)\n",
    "    train_mae = mean_absolute_error(y_train, train_pred)\n",
    "    train_rmse = np.sqrt(mean_squared_error(y_train, train_pred))\n",
    "    \n",
    "    \n",
    "    test_pred = best_model_RF.predict(X_test)\n",
    "    test_r2 = r2_score(y_test, test_pred)\n",
    "    test_mae = mean_absolute_error(y_test, test_pred)\n",
    "    test_rmse = np.sqrt(mean_squared_error(y_test, test_pred))\n",
    "    \n",
    "    \n",
    "    print(f\"Best Hyperparameters: {grid_search.best_params_}\")\n",
    "    \n",
    "    print(\"\\nTraining Performance\")\n",
    "    print(f\"R² Score: {train_r2:.4f}\")\n",
    "    print(f\"Mean Absolute Error: {train_mae:.4f}\")\n",
    "    print(f\"Root Mean Squared Error: {train_rmse:.4f}\")\n",
    "    \n",
    "    print(\"\\nTest Performance\")\n",
    "    print(f\"R² Score: {test_r2:.4f}\")\n",
    "    print(f\"Mean Absolute Error: {test_mae:.4f}\")\n",
    "    print(f\"Root Mean Squared Error: {test_rmse:.4f}\")\n",
    "    \n",
    "    print(\"\\n\" + \"=\" * len(name))"
   ]
  },
  {
   "cell_type": "markdown",
   "id": "6cda0ad7-508b-42e9-8e87-b9b6cbbf3909",
   "metadata": {},
   "source": [
    "### K-Nearest Neighbors Regression"
   ]
  },
  {
   "cell_type": "code",
   "execution_count": 129,
   "id": "51d3a01b-77de-421f-97a2-9e8eded82d3a",
   "metadata": {},
   "outputs": [],
   "source": [
    "K_Nearest_Neighbors_Model = {\n",
    "    'K-Nearest Neighbors Regressor': (KNeighborsRegressor(), {\n",
    "        'n_neighbors': [3, 5, 7, 9],\n",
    "        'weights': ['uniform', 'distance'],\n",
    "        'metric': ['euclidean', 'manhattan']\n",
    "    })\n",
    "}"
   ]
  },
  {
   "cell_type": "code",
   "execution_count": 131,
   "id": "f455ba1e-a77d-4e42-beae-5e61abbbceb7",
   "metadata": {},
   "outputs": [
    {
     "name": "stdout",
     "output_type": "stream",
     "text": [
      "\n",
      "K-Nearest Neighbors Regressor\n",
      "=============================\n",
      "Best Hyperparameters: {'metric': 'euclidean', 'n_neighbors': 7, 'weights': 'distance'}\n",
      "\n",
      "Training Performance\n",
      "R² Score: 0.9962\n",
      "Mean Absolute Error: 0.0127\n",
      "Root Mean Squared Error: 0.0467\n",
      "\n",
      "Test Performance\n",
      "R² Score: 0.8738\n",
      "Mean Absolute Error: 0.1989\n",
      "Root Mean Squared Error: 0.2808\n",
      "\n",
      "=============================\n"
     ]
    }
   ],
   "source": [
    "for name, (K_Nearest_Neighbors_Model, param_grid) in K_Nearest_Neighbors_Model.items():\n",
    "    print(f\"\\n{name}\")\n",
    "    print(\"=\" * len(name))\n",
    "    \n",
    "    \n",
    "    grid_search = GridSearchCV(K_Nearest_Neighbors_Model, param_grid, cv=5, scoring='r2', n_jobs=-1)\n",
    "    grid_search.fit(X_train, y_train)\n",
    "    \n",
    "  \n",
    "    best_model_KNN = grid_search.best_estimator_\n",
    "    \n",
    "    \n",
    "    train_pred = best_model_KNN.predict(X_train)\n",
    "    train_r2 = r2_score(y_train, train_pred)\n",
    "    train_mae = mean_absolute_error(y_train, train_pred)\n",
    "    train_rmse = np.sqrt(mean_squared_error(y_train, train_pred))\n",
    "    \n",
    "    \n",
    "    test_pred = best_model_KNN.predict(X_test)\n",
    "    test_r2 = r2_score(y_test, test_pred)\n",
    "    test_mae = mean_absolute_error(y_test, test_pred)\n",
    "    test_rmse = np.sqrt(mean_squared_error(y_test, test_pred))\n",
    "    \n",
    "   \n",
    "    print(f\"Best Hyperparameters: {grid_search.best_params_}\")\n",
    "    \n",
    "    print(\"\\nTraining Performance\")\n",
    "    print(f\"R² Score: {train_r2:.4f}\")\n",
    "    print(f\"Mean Absolute Error: {train_mae:.4f}\")\n",
    "    print(f\"Root Mean Squared Error: {train_rmse:.4f}\")\n",
    "    \n",
    "    print(\"\\nTest Performance\")\n",
    "    print(f\"R² Score: {test_r2:.4f}\")\n",
    "    print(f\"Mean Absolute Error: {test_mae:.4f}\")\n",
    "    print(f\"Root Mean Squared Error: {test_rmse:.4f}\")\n",
    "    \n",
    "    print(\"\\n\" + \"=\" * len(name))"
   ]
  },
  {
   "cell_type": "markdown",
   "id": "e78ef070-21fd-4934-859d-c7d49c712d56",
   "metadata": {},
   "source": [
    "### Support Vector Regression (Non-Linear 'rbf')"
   ]
  },
  {
   "cell_type": "code",
   "execution_count": 134,
   "id": "6734e6ef-ca6f-44ad-b16f-aa6ecfbfec66",
   "metadata": {},
   "outputs": [],
   "source": [
    "Support_Vector_Model = {\n",
    "    'Support Vector Regressor': (SVR(), {\n",
    "        'C': [0.1, 1, 10],\n",
    "        'kernel': ['rbf'], # Non Linear\n",
    "        'gamma': ['scale', 'auto'] \n",
    "    })\n",
    "}"
   ]
  },
  {
   "cell_type": "code",
   "execution_count": 136,
   "id": "891d4a87-e6f5-4f8f-804d-a2063629b275",
   "metadata": {},
   "outputs": [
    {
     "name": "stdout",
     "output_type": "stream",
     "text": [
      "\n",
      "Support Vector Regressor\n",
      "========================\n",
      "Best Hyperparameters: {'C': 10, 'gamma': 'auto', 'kernel': 'rbf'}\n",
      "\n",
      "Training Performance\n",
      "R² Score: 0.9699\n",
      "Mean Absolute Error: 0.0872\n",
      "Root Mean Squared Error: 0.1323\n",
      "\n",
      "Test Performance\n",
      "R² Score: 0.9467\n",
      "Mean Absolute Error: 0.1165\n",
      "Root Mean Squared Error: 0.1824\n",
      "\n",
      "========================\n"
     ]
    }
   ],
   "source": [
    "for name, (Support_Vector_Model, param_grid) in Support_Vector_Model.items():\n",
    "    print(f\"\\n{name}\")\n",
    "    print(\"=\" * len(name))\n",
    "    \n",
    "   \n",
    "    grid_search = GridSearchCV(Support_Vector_Model, param_grid, cv=5, scoring='r2', n_jobs=-1)\n",
    "    grid_search.fit(X_train, y_train)\n",
    "    \n",
    "   \n",
    "    best_model_SVM = grid_search.best_estimator_\n",
    "    \n",
    "    \n",
    "    train_pred = best_model_SVM.predict(X_train)\n",
    "    train_r2 = r2_score(y_train, train_pred)\n",
    "    train_mae = mean_absolute_error(y_train, train_pred)\n",
    "    train_rmse = np.sqrt(mean_squared_error(y_train, train_pred))\n",
    "    \n",
    "    \n",
    "    test_pred = best_model_SVM.predict(X_test)\n",
    "    test_r2 = r2_score(y_test, test_pred)\n",
    "    test_mae = mean_absolute_error(y_test, test_pred)\n",
    "    test_rmse = np.sqrt(mean_squared_error(y_test, test_pred))\n",
    "    \n",
    "  \n",
    "    print(f\"Best Hyperparameters: {grid_search.best_params_}\")\n",
    "    \n",
    "    print(\"\\nTraining Performance\")\n",
    "    print(f\"R² Score: {train_r2:.4f}\")\n",
    "    print(f\"Mean Absolute Error: {train_mae:.4f}\")\n",
    "    print(f\"Root Mean Squared Error: {train_rmse:.4f}\")\n",
    "    \n",
    "    print(\"\\nTest Performance\")\n",
    "    print(f\"R² Score: {test_r2:.4f}\")\n",
    "    print(f\"Mean Absolute Error: {test_mae:.4f}\")\n",
    "    print(f\"Root Mean Squared Error: {test_rmse:.4f}\")\n",
    "    \n",
    "    print(\"\\n\" + \"=\" * len(name))"
   ]
  },
  {
   "cell_type": "markdown",
   "id": "30c03e4a-b7bf-4168-a37d-3903012bb72e",
   "metadata": {},
   "source": [
    "### Gradient Boosting Regression"
   ]
  },
  {
   "cell_type": "code",
   "execution_count": 138,
   "id": "5ec12cdd-ab12-47f4-92a4-4e2d51a2261f",
   "metadata": {},
   "outputs": [],
   "source": [
    "GBR_model = {\n",
    "    'Gradient Boosting Regressor': (GradientBoostingRegressor(random_state=123), {\n",
    "        'n_estimators': [100, 200, 300],\n",
    "        'learning_rate': [0.01, 0.1, 0.2],\n",
    "        'max_depth': [3, 5, 10]\n",
    "    })\n",
    "}"
   ]
  },
  {
   "cell_type": "code",
   "execution_count": 140,
   "id": "c36d3982-6927-4aa5-83c7-9d117569e9db",
   "metadata": {},
   "outputs": [
    {
     "name": "stdout",
     "output_type": "stream",
     "text": [
      "\n",
      "Gradient Boosting Regressor\n",
      "===========================\n",
      "Best Hyperparameters: {'learning_rate': 0.1, 'max_depth': 5, 'n_estimators': 300}\n",
      "\n",
      "Training Performance\n",
      "R² Score: 0.9813\n",
      "Mean Absolute Error: 0.0682\n",
      "Root Mean Squared Error: 0.1044\n",
      "\n",
      "Test Performance\n",
      "R² Score: 0.9563\n",
      "Mean Absolute Error: 0.0993\n",
      "Root Mean Squared Error: 0.1652\n",
      "\n",
      "===========================\n"
     ]
    }
   ],
   "source": [
    "for name, (GBR_model, param_grid) in GBR_model.items():\n",
    "    print(f\"\\n{name}\")\n",
    "    print(\"=\" * len(name))\n",
    "    \n",
    "   \n",
    "    grid_search = GridSearchCV(GBR_model, param_grid, cv=5, scoring='r2', n_jobs=-1)\n",
    "    grid_search.fit(X_train, y_train)\n",
    "    \n",
    "    \n",
    "    best_model_GBR = grid_search.best_estimator_\n",
    "    \n",
    "    \n",
    "    train_pred = best_model_GBR.predict(X_train)\n",
    "    train_r2 = r2_score(y_train, train_pred)\n",
    "    train_mae = mean_absolute_error(y_train, train_pred)\n",
    "    train_rmse = np.sqrt(mean_squared_error(y_train, train_pred))\n",
    "    \n",
    "   \n",
    "    test_pred = best_model_GBR.predict(X_test)\n",
    "    test_r2 = r2_score(y_test, test_pred)\n",
    "    test_mae = mean_absolute_error(y_test, test_pred)\n",
    "    test_rmse = np.sqrt(mean_squared_error(y_test, test_pred))\n",
    "    \n",
    "  \n",
    "    print(f\"Best Hyperparameters: {grid_search.best_params_}\")\n",
    "    \n",
    "    print(\"\\nTraining Performance\")\n",
    "    print(f\"R² Score: {train_r2:.4f}\")\n",
    "    print(f\"Mean Absolute Error: {train_mae:.4f}\")\n",
    "    print(f\"Root Mean Squared Error: {train_rmse:.4f}\")\n",
    "    \n",
    "    print(\"\\nTest Performance\")\n",
    "    print(f\"R² Score: {test_r2:.4f}\")\n",
    "    print(f\"Mean Absolute Error: {test_mae:.4f}\")\n",
    "    print(f\"Root Mean Squared Error: {test_rmse:.4f}\")\n",
    "    \n",
    "    print(\"\\n\" + \"=\" * len(name))"
   ]
  },
  {
   "cell_type": "markdown",
   "id": "1bb6282e-fe15-4b5e-a616-46bd93fb07a1",
   "metadata": {},
   "source": [
    "### XGBoost Regression"
   ]
  },
  {
   "cell_type": "code",
   "execution_count": 142,
   "id": "d9e78f3b-c57c-493a-a2f2-7e3746f19876",
   "metadata": {},
   "outputs": [],
   "source": [
    "XGB_model = {\n",
    "    'XGBoost Regressor': (XGBRegressor(random_state=123), {\n",
    "        'n_estimators': [100, 200, 300],\n",
    "        'learning_rate': [0.01, 0.02, 0.5],\n",
    "        'max_depth': [3, 5, 10]\n",
    "    })\n",
    "}"
   ]
  },
  {
   "cell_type": "code",
   "execution_count": 144,
   "id": "0c6e8a87-9396-42c7-9f87-894b3e15bcf4",
   "metadata": {},
   "outputs": [
    {
     "name": "stdout",
     "output_type": "stream",
     "text": [
      "\n",
      "XGBoost Regressor\n",
      "=================\n",
      "Best Hyperparameters: {'learning_rate': 0.5, 'max_depth': 3, 'n_estimators': 200}\n",
      "\n",
      "Training Performance\n",
      "R² Score: 0.9720\n",
      "Mean Absolute Error: 0.0826\n",
      "Root Mean Squared Error: 0.1276\n",
      "\n",
      "Test Performance\n",
      "R² Score: 0.9540\n",
      "Mean Absolute Error: 0.1049\n",
      "Root Mean Squared Error: 0.1695\n",
      "\n",
      "=================\n"
     ]
    }
   ],
   "source": [
    "for name, (XGB_model, param_grid) in XGB_model.items():\n",
    "    print(f\"\\n{name}\")\n",
    "    print(\"=\" * len(name))\n",
    "    \n",
    "    \n",
    "    grid_search = GridSearchCV(XGB_model, param_grid, cv=5, scoring='r2', n_jobs=-1)\n",
    "    grid_search.fit(X_train, y_train)\n",
    "    \n",
    "    \n",
    "    best_model_XGB = grid_search.best_estimator_\n",
    "    \n",
    "    \n",
    "    train_pred = best_model_XGB.predict(X_train)\n",
    "    train_r2 = r2_score(y_train, train_pred)\n",
    "    train_mae = mean_absolute_error(y_train, train_pred)\n",
    "    train_rmse = np.sqrt(mean_squared_error(y_train, train_pred))\n",
    "    \n",
    "   \n",
    "    test_pred = best_model_XGB.predict(X_test)\n",
    "    test_r2 = r2_score(y_test, test_pred)\n",
    "    test_mae = mean_absolute_error(y_test, test_pred)\n",
    "    test_rmse = np.sqrt(mean_squared_error(y_test, test_pred))\n",
    "    \n",
    "   \n",
    "    print(f\"Best Hyperparameters: {grid_search.best_params_}\")\n",
    "    \n",
    "    print(\"\\nTraining Performance\")\n",
    "    print(f\"R² Score: {train_r2:.4f}\")\n",
    "    print(f\"Mean Absolute Error: {train_mae:.4f}\")\n",
    "    print(f\"Root Mean Squared Error: {train_rmse:.4f}\")\n",
    "    \n",
    "    print(\"\\nTest Performance\")\n",
    "    print(f\"R² Score: {test_r2:.4f}\")\n",
    "    print(f\"Mean Absolute Error: {test_mae:.4f}\")\n",
    "    print(f\"Root Mean Squared Error: {test_rmse:.4f}\")\n",
    "    \n",
    "    print(\"\\n\" + \"=\" * len(name))"
   ]
  },
  {
   "cell_type": "markdown",
   "id": "97ce0383-b413-445a-a30c-22e745a362da",
   "metadata": {},
   "source": [
    "### LightGBM Regression"
   ]
  },
  {
   "cell_type": "code",
   "execution_count": 146,
   "id": "737dde3f-8901-4a9a-a3e7-3419b6e78699",
   "metadata": {},
   "outputs": [],
   "source": [
    "LightGBM_model = {\n",
    "    'LightGBM Regressor': (LGBMRegressor(random_state=123), {\n",
    "        'n_estimators': [100, 200, 300],\n",
    "        'learning_rate': [0.01, 0.1, 0.2],\n",
    "        'max_depth': [-1, 10, 20],\n",
    "        'lambda_l2': [0, 0.1, 1, 10]\n",
    "    })\n",
    "}"
   ]
  },
  {
   "cell_type": "code",
   "execution_count": 148,
   "id": "a8172873-72cc-4794-9b49-bfb3d29a2718",
   "metadata": {},
   "outputs": [
    {
     "name": "stdout",
     "output_type": "stream",
     "text": [
      "\n",
      "LightGBM Regressor\n",
      "==================\n",
      "[LightGBM] [Warning] lambda_l2 is set=10, reg_lambda=0.0 will be ignored. Current value: lambda_l2=10\n",
      "[LightGBM] [Warning] lambda_l2 is set=10, reg_lambda=0.0 will be ignored. Current value: lambda_l2=10\n",
      "[LightGBM] [Info] Auto-choosing col-wise multi-threading, the overhead of testing was 0.000872 seconds.\n",
      "You can set `force_col_wise=true` to remove the overhead.\n",
      "[LightGBM] [Info] Total Bins 177\n",
      "[LightGBM] [Info] Number of data points in the train set: 6872, number of used features: 10\n",
      "[LightGBM] [Info] Start training from score 5.423063\n",
      "[LightGBM] [Warning] lambda_l2 is set=10, reg_lambda=0.0 will be ignored. Current value: lambda_l2=10\n",
      "[LightGBM] [Warning] lambda_l2 is set=10, reg_lambda=0.0 will be ignored. Current value: lambda_l2=10\n",
      "Best Hyperparameters: {'lambda_l2': 10, 'learning_rate': 0.1, 'max_depth': 20, 'n_estimators': 300}\n",
      "\n",
      "Training Performance\n",
      "R² Score: 0.9790\n",
      "Mean Absolute Error: 0.0724\n",
      "Root Mean Squared Error: 0.1106\n",
      "\n",
      "Test Performance\n",
      "R² Score: 0.9563\n",
      "Mean Absolute Error: 0.1009\n",
      "Root Mean Squared Error: 0.1653\n",
      "\n",
      "==================\n"
     ]
    }
   ],
   "source": [
    "for name, (LightGBM_model , param_grid) in LightGBM_model.items():\n",
    "    print(f\"\\n{name}\")\n",
    "    print(\"=\" * len(name))\n",
    "    \n",
    "\n",
    "    grid_search = GridSearchCV(LightGBM_model, param_grid, cv=5, scoring='r2', n_jobs=-1)\n",
    "    grid_search.fit(X_train, y_train)\n",
    "    \n",
    "    \n",
    "    best_model_LightGBM = grid_search.best_estimator_\n",
    "    \n",
    "  \n",
    "    train_pred = best_model_LightGBM.predict(X_train)\n",
    "    train_r2 = r2_score(y_train, train_pred)\n",
    "    train_mae = mean_absolute_error(y_train, train_pred)\n",
    "    train_rmse = np.sqrt(mean_squared_error(y_train, train_pred))\n",
    "    \n",
    "   \n",
    "    test_pred = best_model_LightGBM.predict(X_test)\n",
    "    test_r2 = r2_score(y_test, test_pred)\n",
    "    test_mae = mean_absolute_error(y_test, test_pred)\n",
    "    test_rmse = np.sqrt(mean_squared_error(y_test, test_pred))\n",
    "    \n",
    "  \n",
    "    print(f\"Best Hyperparameters: {grid_search.best_params_}\")\n",
    "    \n",
    "    print(\"\\nTraining Performance\")\n",
    "    print(f\"R² Score: {train_r2:.4f}\")\n",
    "    print(f\"Mean Absolute Error: {train_mae:.4f}\")\n",
    "    print(f\"Root Mean Squared Error: {train_rmse:.4f}\")\n",
    "    \n",
    "    print(\"\\nTest Performance\")\n",
    "    print(f\"R² Score: {test_r2:.4f}\")\n",
    "    print(f\"Mean Absolute Error: {test_mae:.4f}\")\n",
    "    print(f\"Root Mean Squared Error: {test_rmse:.4f}\")\n",
    "    \n",
    "    print(\"\\n\" + \"=\" * len(name))"
   ]
  },
  {
   "cell_type": "markdown",
   "id": "f00d3903-77b6-424a-94f7-0ed2b0567912",
   "metadata": {},
   "source": [
    "### Feature selection for the LightGBM model as a best fitted model."
   ]
  },
  {
   "cell_type": "code",
   "execution_count": 150,
   "id": "63a1aa40-972e-47e7-85bf-6cb1c4a069dc",
   "metadata": {},
   "outputs": [
    {
     "name": "stdout",
     "output_type": "stream",
     "text": [
      "[LightGBM] [Info] Auto-choosing row-wise multi-threading, the overhead of testing was 0.000485 seconds.\n",
      "You can set `force_row_wise=true` to remove the overhead.\n",
      "And if memory is not enough, you can set `force_col_wise=true`.\n",
      "[LightGBM] [Info] Total Bins 177\n",
      "[LightGBM] [Info] Number of data points in the train set: 6872, number of used features: 10\n",
      "[LightGBM] [Info] Start training from score 5.423063\n"
     ]
    },
    {
     "data": {
      "image/png": "[encoded data removed]",
      "text/plain": [
       "<Figure size 1000x600 with 1 Axes>"
      ]
     },
     "metadata": {},
     "output_type": "display_data"
    },
    {
     "name": "stdout",
     "output_type": "stream",
     "text": [
      "Top Feature Importances:\n",
      "                Feature  Importance\n",
      "9     Incentive_Amount        2001\n",
      "8         Sewing_Units        1856\n",
      "0              SMO_Age        1227\n",
      "3     Sub_Garment_Type         896\n",
      "4                Brand         823\n",
      "5          Sample_Type         744\n",
      "7  Embellishment_Level         602\n",
      "2        SMO_KPI_Grade         544\n",
      "6    Fabric_Complexity         154\n",
      "1           SMO_Gender         153\n"
     ]
    }
   ],
   "source": [
    "import lightgbm as lgb\n",
    "\n",
    "# Define the LightGBM Regressor with best hyperparameters\n",
    "lgb_regressor = lgb.LGBMRegressor(\n",
    "    learning_rate=0.1, \n",
    "    max_depth=-1,  \n",
    "    n_estimators=300, \n",
    "    random_state=123\n",
    ")\n",
    "\n",
    "lgb_regressor.fit(X_train, y_train)\n",
    "\n",
    "# Get feature importances\n",
    "feature_importances = lgb_regressor.feature_importances_\n",
    "features = X_train.columns  \n",
    "\n",
    "# Create a DataFrame to store feature names and their importance scores\n",
    "feature_importance_df = pd.DataFrame({\n",
    "    'Feature': features,\n",
    "    'Importance': feature_importances\n",
    "})\n",
    "\n",
    "# Sort the DataFrame by importance in descending order\n",
    "feature_importance_df = feature_importance_df.sort_values(by='Importance', ascending=False)\n",
    "\n",
    "# Select the top 10 features\n",
    "top_features = feature_importance_df.head(11)\n",
    "\n",
    "# Plot feature importance using Seaborn\n",
    "plt.figure(figsize=(10, 6))\n",
    "sns.barplot(x='Importance', y='Feature', data=top_features, palette=\"viridis\")\n",
    "plt.title('Top 10 Feature Importances (LightGBM Regressor)')\n",
    "plt.xlabel('Importance Score')\n",
    "plt.ylabel('Feature')\n",
    "plt.savefig(\"Top_10_Feature.png\", bbox_inches='tight')  # For presentations\n",
    "\n",
    "plt.show()\n",
    "\n",
    "# Print feature importance values\n",
    "print(\"Top Feature Importances:\\n\", top_features)\n"
   ]
  },
  {
   "cell_type": "code",
   "execution_count": 168,
   "id": "466b614f-3844-4112-bae8-0fc4dc7f6903",
   "metadata": {},
   "outputs": [],
   "source": [
    "### Create a Pickle file using seralization\n",
    "import pickle\n",
    "pickle_out = open(\"best_model_LightGBM.pkl\",\"wb\")\n",
    "pickle.dump(best_model_LightGBM,pickle_out)\n",
    "pickle_out.close()"
   ]
  },
  {
   "cell_type": "code",
   "execution_count": null,
   "id": "5eca8d8c-eee3-4a9f-8c8d-c2ce34db14bd",
   "metadata": {},
   "outputs": [],
   "source": []
  }
 ],
 "metadata": {
  "kernelspec": {
   "display_name": "Python 3 (ipykernel)",
   "language": "python",
   "name": "python3"
  },
  "language_info": {
   "codemirror_mode": {
    "name": "ipython",
    "version": 3
   },
   "file_extension": ".py",
   "mimetype": "text/x-python",
   "name": "python",
   "nbconvert_exporter": "python",
   "pygments_lexer": "ipython3",
   "version": "3.11.7"
  }
 },
 "nbformat": 4,
 "nbformat_minor": 5
}
